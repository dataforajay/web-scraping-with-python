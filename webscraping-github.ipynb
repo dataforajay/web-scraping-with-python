{
 "cells": [
  {
   "cell_type": "markdown",
   "metadata": {
    "id": "5a2SKGhWg2lE"
   },
   "source": [
    "# webscraping-github\n",
    "\n",
    "Use the \"Run\" button to execute the code."
   ]
  },
  {
   "cell_type": "markdown",
   "metadata": {
    "id": "vcUj4_-fg2ld"
   },
   "source": [
    "### Picking a website and general overview of the project\n",
    "- Scraping the following website: 'https://github.com/topics'\n",
    "- Getting list of the topics. For every topic, getting topic title, topic page URL and description.\n",
    "- For every topic, getting top 25 repositories in the topic from the topic page.\n",
    "- For each repository, grabbing the repository name, username, stars and repository URL.\n",
    "- For each topic, creating the CSV file of the following format:\n",
    "``````\n",
    "Repo Name,Username,Stars,Repo URL\n",
    "infinite-scroll,metafizzy,7100,https://github.com/metafizzy/infinite-scroll\n",
    "Blog,ljianshu,7000,https://github.com/ljianshu/Blog\n",
    "``````"
   ]
  },
  {
   "cell_type": "code",
   "execution_count": 1,
   "metadata": {
    "id": "iQ6dB4mdg2lj"
   },
   "outputs": [],
   "source": [
    "# importing requests library\n",
    "import requests"
   ]
  },
  {
   "cell_type": "code",
   "execution_count": 2,
   "metadata": {
    "id": "qYbW28Lmg2lo"
   },
   "outputs": [],
   "source": [
    "# webpage selected for scraping\n",
    "topics_url = 'https://github.com/topics'"
   ]
  },
  {
   "cell_type": "code",
   "execution_count": 3,
   "metadata": {
    "id": "prXsevcvg2ls"
   },
   "outputs": [],
   "source": [
    "response = requests.get(topics_url)"
   ]
  },
  {
   "cell_type": "code",
   "execution_count": 4,
   "metadata": {
    "id": "JZqXqhNBg2ly"
   },
   "outputs": [
    {
     "data": {
      "text/plain": [
       "200"
      ]
     },
     "execution_count": 4,
     "metadata": {},
     "output_type": "execute_result"
    }
   ],
   "source": [
    "response.status_code"
   ]
  },
  {
   "cell_type": "code",
   "execution_count": 5,
   "metadata": {
    "id": "MyNRIBGOg2l3"
   },
   "outputs": [
    {
     "data": {
      "text/plain": [
       "141849"
      ]
     },
     "execution_count": 5,
     "metadata": {},
     "output_type": "execute_result"
    }
   ],
   "source": [
    "len(response.text)"
   ]
  },
  {
   "cell_type": "code",
   "execution_count": 6,
   "metadata": {
    "id": "2Z3bq0sSg2l6"
   },
   "outputs": [],
   "source": [
    "page_contents = response.text"
   ]
  },
  {
   "cell_type": "code",
   "execution_count": 7,
   "metadata": {
    "id": "tOH-fYNug2l8"
   },
   "outputs": [
    {
     "data": {
      "text/plain": [
       "'\\n\\n<!DOCTYPE html>\\n<html lang=\"en\" data-color-mode=\"auto\" data-light-theme=\"light\" data-dark-theme=\"dark\" data-a11y-animated-images=\"system\">\\n  <head>\\n    <meta charset=\"utf-8\">\\n  <link rel=\"dns-prefetch\" href=\"https://github.githubassets.com\">\\n  <link rel=\"dns-prefetch\" href=\"https://avatars.githubusercontent.com\">\\n  <link rel=\"dns-prefetch\" href=\"https://github-cloud.s3.amazonaws.com\">\\n  <link rel=\"dns-prefetch\" href=\"https://user-images.githubusercontent.com/\">\\n  <link rel=\"preconnect\" href=\"https://github.githubassets.com\" crossorigin>\\n  <link rel=\"preconnect\" href=\"https://avatars.githubusercontent.com\">\\n\\n\\n\\n  <link crossorigin=\"anonymous\" media=\"all\" integrity=\"sha512-ksfTgQOOnE+FFXf+yNfVjKSlEckJAdufFIYGK7ZjRhWcZgzAGcmZqqArTgMLpu90FwthqcCX4ldDgKXbmVMeuQ==\" rel=\"stylesheet\" href=\"https://github.githubassets.com/assets/light-92c7d381038e.css\" /><link crossorigin=\"anonymous\" media=\"all\" integrity=\"sha512-1KkMNn8M/al/dtzBLupRwkIOgnA9MWkm8oxS+solP87jByEvY/g4BmoxLihRogKcX1obPnf4Yp7dI0ZTW'"
      ]
     },
     "execution_count": 7,
     "metadata": {},
     "output_type": "execute_result"
    }
   ],
   "source": [
    "page_contents[:1000]"
   ]
  },
  {
   "cell_type": "code",
   "execution_count": 8,
   "metadata": {
    "id": "hI1RXgIxg2l9"
   },
   "outputs": [],
   "source": [
    "# creating a local copy of the webpage on the server\n",
    "with open('webpage.html', 'w') as f:\n",
    "    f.write(page_contents)"
   ]
  },
  {
   "cell_type": "markdown",
   "metadata": {
    "id": "F_QVY1ISg2l_"
   },
   "source": [
    "### Using Beautiful Soup for parsing and extracting information"
   ]
  },
  {
   "cell_type": "code",
   "execution_count": 9,
   "metadata": {
    "id": "04X7MDOzg2mB"
   },
   "outputs": [],
   "source": [
    "!pip install beautifulsoup4 --upgrade --quiet"
   ]
  },
  {
   "cell_type": "code",
   "execution_count": 10,
   "metadata": {
    "id": "52Zjr65Gg2mD"
   },
   "outputs": [],
   "source": [
    "from bs4 import BeautifulSoup"
   ]
  },
  {
   "cell_type": "code",
   "execution_count": 11,
   "metadata": {
    "code_folding": [],
    "id": "qBK_fEIOg2mF"
   },
   "outputs": [],
   "source": [
    "# parsing information using html.parser\n",
    "doc = BeautifulSoup(page_contents, 'html.parser')"
   ]
  },
  {
   "cell_type": "code",
   "execution_count": 12,
   "metadata": {
    "id": "4OcsUBsKg2mG"
   },
   "outputs": [],
   "source": [
    "# getting the topic title of the topics from the website by inspecting it\n",
    "selection_class = 'f3 lh-condensed mb-0 mt-1 Link--primary' \n",
    "\n",
    "topic_title_tags = doc.find_all('p', {'class': selection_class})"
   ]
  },
  {
   "cell_type": "code",
   "execution_count": 13,
   "metadata": {
    "id": "TYrUfjcUg2mI"
   },
   "outputs": [
    {
     "data": {
      "text/plain": [
       "30"
      ]
     },
     "execution_count": 13,
     "metadata": {},
     "output_type": "execute_result"
    }
   ],
   "source": [
    "len(topic_title_tags)"
   ]
  },
  {
   "cell_type": "code",
   "execution_count": 14,
   "metadata": {
    "id": "2YSXsxF0g2mJ"
   },
   "outputs": [
    {
     "data": {
      "text/plain": [
       "[<p class=\"f3 lh-condensed mb-0 mt-1 Link--primary\">3D</p>,\n",
       " <p class=\"f3 lh-condensed mb-0 mt-1 Link--primary\">Ajax</p>,\n",
       " <p class=\"f3 lh-condensed mb-0 mt-1 Link--primary\">Algorithm</p>,\n",
       " <p class=\"f3 lh-condensed mb-0 mt-1 Link--primary\">Amp</p>,\n",
       " <p class=\"f3 lh-condensed mb-0 mt-1 Link--primary\">Android</p>]"
      ]
     },
     "execution_count": 14,
     "metadata": {},
     "output_type": "execute_result"
    }
   ],
   "source": [
    "topic_title_tags[:5]"
   ]
  },
  {
   "cell_type": "code",
   "execution_count": 15,
   "metadata": {
    "id": "i1z84-_2g2mL"
   },
   "outputs": [],
   "source": [
    "# getting the topic description of the topics from the website by inspecting it\n",
    "desc_selector = 'f5 color-fg-muted mb-0 mt-1'\n",
    "\n",
    "topic_desc_tags = doc.find_all('p', {'class': desc_selector})"
   ]
  },
  {
   "cell_type": "code",
   "execution_count": 16,
   "metadata": {
    "id": "AXntCiBTg2mM"
   },
   "outputs": [
    {
     "data": {
      "text/plain": [
       "30"
      ]
     },
     "execution_count": 16,
     "metadata": {},
     "output_type": "execute_result"
    }
   ],
   "source": [
    "len(topic_desc_tags)"
   ]
  },
  {
   "cell_type": "code",
   "execution_count": 17,
   "metadata": {
    "id": "Xdz3X7qWg2mN"
   },
   "outputs": [
    {
     "data": {
      "text/plain": [
       "[<p class=\"f5 color-fg-muted mb-0 mt-1\">\n",
       "           3D modeling is the process of virtually developing the surface and structure of a 3D object.\n",
       "         </p>,\n",
       " <p class=\"f5 color-fg-muted mb-0 mt-1\">\n",
       "           Ajax is a technique for creating interactive web applications.\n",
       "         </p>,\n",
       " <p class=\"f5 color-fg-muted mb-0 mt-1\">\n",
       "           Algorithms are self-contained sequences that carry out a variety of tasks.\n",
       "         </p>,\n",
       " <p class=\"f5 color-fg-muted mb-0 mt-1\">\n",
       "           Amp is a non-blocking concurrency library for PHP.\n",
       "         </p>,\n",
       " <p class=\"f5 color-fg-muted mb-0 mt-1\">\n",
       "           Android is an operating system built by Google designed for mobile devices.\n",
       "         </p>]"
      ]
     },
     "execution_count": 17,
     "metadata": {},
     "output_type": "execute_result"
    }
   ],
   "source": [
    "topic_desc_tags[:5]"
   ]
  },
  {
   "cell_type": "code",
   "execution_count": 18,
   "metadata": {
    "id": "JBlgUF_2g2mP"
   },
   "outputs": [],
   "source": [
    "# getting the topic title tag at the 0th element which is 3D\n",
    "topic_title_tag0 = topic_title_tags[0]"
   ]
  },
  {
   "cell_type": "code",
   "execution_count": 19,
   "metadata": {
    "id": "rQGkUAnyg2mP"
   },
   "outputs": [
    {
     "data": {
      "text/plain": [
       "<p class=\"f3 lh-condensed mb-0 mt-1 Link--primary\">3D</p>"
      ]
     },
     "execution_count": 19,
     "metadata": {},
     "output_type": "execute_result"
    }
   ],
   "source": [
    "topic_title_tag0"
   ]
  },
  {
   "cell_type": "code",
   "execution_count": 20,
   "metadata": {
    "id": "Vl3kT9bcg2mQ"
   },
   "outputs": [],
   "source": [
    "# getting the parent tag of the above mentioned tag ie looking up inside which tag does the above tag lie\n",
    "div_tag = topic_title_tag0.parent"
   ]
  },
  {
   "cell_type": "code",
   "execution_count": 21,
   "metadata": {
    "id": "1YSNFi3Mg2mS"
   },
   "outputs": [
    {
     "data": {
      "text/plain": [
       "<a class=\"no-underline flex-1 d-flex flex-column\" href=\"/topics/3d\">\n",
       "<p class=\"f3 lh-condensed mb-0 mt-1 Link--primary\">3D</p>\n",
       "<p class=\"f5 color-fg-muted mb-0 mt-1\">\n",
       "          3D modeling is the process of virtually developing the surface and structure of a 3D object.\n",
       "        </p>\n",
       "</a>"
      ]
     },
     "execution_count": 21,
     "metadata": {},
     "output_type": "execute_result"
    }
   ],
   "source": [
    "div_tag"
   ]
  },
  {
   "cell_type": "code",
   "execution_count": 22,
   "metadata": {
    "id": "s588rG2Ag2mT"
   },
   "outputs": [],
   "source": [
    "# getting the link URL of the topics from the a tag (parent of the p tags for topic titles and descriptions)\n",
    "topic_link_tags = doc.find_all('a', {'class': 'no-underline flex-1 d-flex flex-column' })"
   ]
  },
  {
   "cell_type": "code",
   "execution_count": 23,
   "metadata": {
    "id": "jkPboc19g2mW"
   },
   "outputs": [
    {
     "data": {
      "text/plain": [
       "30"
      ]
     },
     "execution_count": 23,
     "metadata": {},
     "output_type": "execute_result"
    }
   ],
   "source": [
    "len(topic_link_tags)"
   ]
  },
  {
   "cell_type": "code",
   "execution_count": 24,
   "metadata": {
    "id": "EPQxWm-Hg2mY"
   },
   "outputs": [
    {
     "name": "stdout",
     "output_type": "stream",
     "text": [
      "https://github.com/topics/3d\n"
     ]
    }
   ],
   "source": [
    "# printing URL of the first topic (3D) on the GitHub page\n",
    "topic0_url = 'https://github.com' + topic_link_tags[0]['href']\n",
    "print(topic0_url)"
   ]
  },
  {
   "cell_type": "code",
   "execution_count": 25,
   "metadata": {
    "id": "1k1Lb5Geg2mb"
   },
   "outputs": [
    {
     "name": "stdout",
     "output_type": "stream",
     "text": [
      "['3D', 'Ajax', 'Algorithm', 'Amp', 'Android', 'Angular', 'Ansible', 'API', 'Arduino', 'ASP.NET', 'Atom', 'Awesome Lists', 'Amazon Web Services', 'Azure', 'Babel', 'Bash', 'Bitcoin', 'Bootstrap', 'Bot', 'C', 'Chrome', 'Chrome extension', 'Command line interface', 'Clojure', 'Code quality', 'Code review', 'Compiler', 'Continuous integration', 'COVID-19', 'C++']\n"
     ]
    }
   ],
   "source": [
    "# printing only the title of the topics\n",
    "topic_titles = [] #created an empty dictionary for title tags\n",
    "for tag in topic_title_tags:\n",
    "    topic_titles.append(tag.text)\n",
    "print(topic_titles)"
   ]
  },
  {
   "cell_type": "code",
   "execution_count": 26,
   "metadata": {
    "id": "85qd0CFFg2mc",
    "scrolled": true
   },
   "outputs": [
    {
     "data": {
      "text/plain": [
       "['3D modeling is the process of virtually developing the surface and structure of a 3D object.',\n",
       " 'Ajax is a technique for creating interactive web applications.',\n",
       " 'Algorithms are self-contained sequences that carry out a variety of tasks.',\n",
       " 'Amp is a non-blocking concurrency library for PHP.',\n",
       " 'Android is an operating system built by Google designed for mobile devices.',\n",
       " 'Angular is an open source web application platform.',\n",
       " 'Ansible is a simple and powerful automation engine.',\n",
       " 'An API (Application Programming Interface) is a collection of protocols and subroutines for building software.',\n",
       " 'Arduino is an open source hardware and software company and maker community.',\n",
       " 'ASP.NET is a web framework for building modern web apps and services.',\n",
       " 'Atom is a open source text editor built with web technologies.',\n",
       " 'An awesome list is a list of awesome things curated by the community.',\n",
       " 'Amazon Web Services provides on-demand cloud computing platforms on a subscription basis.',\n",
       " 'Azure is a cloud computing service created by Microsoft.',\n",
       " 'Babel is a compiler for writing next generation JavaScript, today.',\n",
       " 'Bash is a shell and command language interpreter for the GNU operating system.',\n",
       " 'Bitcoin is a cryptocurrency developed by Satoshi Nakamoto.',\n",
       " 'Bootstrap is an HTML, CSS, and JavaScript framework.',\n",
       " 'A bot is an application that runs automated tasks over the Internet.',\n",
       " 'C is a general purpose programming language that first appeared in 1972.',\n",
       " 'Chrome is a web browser from the tech company Google.',\n",
       " 'Chrome extensions enable users to customize the Chrome browsing experience.',\n",
       " 'A CLI, or command-line interface, is a console that helps users issue commands to a program.',\n",
       " 'Clojure is a dynamic, general-purpose programming language.',\n",
       " 'Automate your code review with style, quality, security, and test‑coverage checks when you need them.',\n",
       " 'Ensure your code meets quality standards and ship with confidence.',\n",
       " 'Compilers are software that translate higher-level programming languages to lower-level languages (e.g. machine code).',\n",
       " 'Automatically build and test your code as you push it upstream, preventing bugs from being deployed to production.',\n",
       " 'The coronavirus disease 2019 (COVID-19) is an infectious disease caused by SARS-CoV-2.',\n",
       " 'C++ is a general purpose and object-oriented programming language.']"
      ]
     },
     "execution_count": 26,
     "metadata": {},
     "output_type": "execute_result"
    }
   ],
   "source": [
    "# parsing description of the topics\n",
    "topic_descs = []\n",
    "for tag in topic_desc_tags:\n",
    "    topic_descs.append(tag.text.strip()) # strip removes the unnecessary space present in the text\n",
    "topic_descs"
   ]
  },
  {
   "cell_type": "code",
   "execution_count": 27,
   "metadata": {
    "id": "RJOr-_yCg2md"
   },
   "outputs": [
    {
     "data": {
      "text/plain": [
       "['https://github.com/topics/3d',\n",
       " 'https://github.com/topics/ajax',\n",
       " 'https://github.com/topics/algorithm',\n",
       " 'https://github.com/topics/amphp',\n",
       " 'https://github.com/topics/android',\n",
       " 'https://github.com/topics/angular',\n",
       " 'https://github.com/topics/ansible',\n",
       " 'https://github.com/topics/api',\n",
       " 'https://github.com/topics/arduino',\n",
       " 'https://github.com/topics/aspnet',\n",
       " 'https://github.com/topics/atom',\n",
       " 'https://github.com/topics/awesome',\n",
       " 'https://github.com/topics/aws',\n",
       " 'https://github.com/topics/azure',\n",
       " 'https://github.com/topics/babel',\n",
       " 'https://github.com/topics/bash',\n",
       " 'https://github.com/topics/bitcoin',\n",
       " 'https://github.com/topics/bootstrap',\n",
       " 'https://github.com/topics/bot',\n",
       " 'https://github.com/topics/c',\n",
       " 'https://github.com/topics/chrome',\n",
       " 'https://github.com/topics/chrome-extension',\n",
       " 'https://github.com/topics/cli',\n",
       " 'https://github.com/topics/clojure',\n",
       " 'https://github.com/topics/code-quality',\n",
       " 'https://github.com/topics/code-review',\n",
       " 'https://github.com/topics/compiler',\n",
       " 'https://github.com/topics/continuous-integration',\n",
       " 'https://github.com/topics/covid-19',\n",
       " 'https://github.com/topics/cpp']"
      ]
     },
     "execution_count": 27,
     "metadata": {},
     "output_type": "execute_result"
    }
   ],
   "source": [
    "# parsing topic URLs\n",
    "topic_urls = []\n",
    "base_url = 'https://github.com'\n",
    "for tag in topic_link_tags:\n",
    "    topic_urls.append(base_url + tag['href'])\n",
    "topic_urls"
   ]
  },
  {
   "cell_type": "markdown",
   "metadata": {
    "id": "ITkqDDk3g2mf"
   },
   "source": [
    "### Creating CSV file/s with the extracted information"
   ]
  },
  {
   "cell_type": "code",
   "execution_count": 28,
   "metadata": {
    "id": "PXexQyurg2mg"
   },
   "outputs": [],
   "source": [
    "!pip install pandas --quiet"
   ]
  },
  {
   "cell_type": "code",
   "execution_count": 29,
   "metadata": {
    "id": "WzYzOCt0g2mi"
   },
   "outputs": [],
   "source": [
    "import pandas as pd"
   ]
  },
  {
   "cell_type": "code",
   "execution_count": 30,
   "metadata": {
    "id": "q6m6Evdyg2mj"
   },
   "outputs": [],
   "source": [
    "# creating topics dictionary to display the data in a table using pandas library\n",
    "topics_dict = {'Topic': topic_titles, # 'Topic'-name of the column, topic_titles-info of that attribute to be stored in the column \n",
    "               'Description': topic_descs,\n",
    "               'URL': topic_urls }"
   ]
  },
  {
   "cell_type": "code",
   "execution_count": 31,
   "metadata": {
    "id": "23kr9zqMg2mn"
   },
   "outputs": [],
   "source": [
    "topics_df = pd.DataFrame(topics_dict)"
   ]
  },
  {
   "cell_type": "code",
   "execution_count": 32,
   "metadata": {
    "id": "BJu-VOetg2mp"
   },
   "outputs": [
    {
     "data": {
      "text/html": [
       "<div>\n",
       "<style scoped>\n",
       "    .dataframe tbody tr th:only-of-type {\n",
       "        vertical-align: middle;\n",
       "    }\n",
       "\n",
       "    .dataframe tbody tr th {\n",
       "        vertical-align: top;\n",
       "    }\n",
       "\n",
       "    .dataframe thead th {\n",
       "        text-align: right;\n",
       "    }\n",
       "</style>\n",
       "<table border=\"1\" class=\"dataframe\">\n",
       "  <thead>\n",
       "    <tr style=\"text-align: right;\">\n",
       "      <th></th>\n",
       "      <th>Topic</th>\n",
       "      <th>Description</th>\n",
       "      <th>URL</th>\n",
       "    </tr>\n",
       "  </thead>\n",
       "  <tbody>\n",
       "    <tr>\n",
       "      <th>0</th>\n",
       "      <td>3D</td>\n",
       "      <td>3D modeling is the process of virtually develo...</td>\n",
       "      <td>https://github.com/topics/3d</td>\n",
       "    </tr>\n",
       "    <tr>\n",
       "      <th>1</th>\n",
       "      <td>Ajax</td>\n",
       "      <td>Ajax is a technique for creating interactive w...</td>\n",
       "      <td>https://github.com/topics/ajax</td>\n",
       "    </tr>\n",
       "    <tr>\n",
       "      <th>2</th>\n",
       "      <td>Algorithm</td>\n",
       "      <td>Algorithms are self-contained sequences that c...</td>\n",
       "      <td>https://github.com/topics/algorithm</td>\n",
       "    </tr>\n",
       "    <tr>\n",
       "      <th>3</th>\n",
       "      <td>Amp</td>\n",
       "      <td>Amp is a non-blocking concurrency library for ...</td>\n",
       "      <td>https://github.com/topics/amphp</td>\n",
       "    </tr>\n",
       "    <tr>\n",
       "      <th>4</th>\n",
       "      <td>Android</td>\n",
       "      <td>Android is an operating system built by Google...</td>\n",
       "      <td>https://github.com/topics/android</td>\n",
       "    </tr>\n",
       "    <tr>\n",
       "      <th>5</th>\n",
       "      <td>Angular</td>\n",
       "      <td>Angular is an open source web application plat...</td>\n",
       "      <td>https://github.com/topics/angular</td>\n",
       "    </tr>\n",
       "    <tr>\n",
       "      <th>6</th>\n",
       "      <td>Ansible</td>\n",
       "      <td>Ansible is a simple and powerful automation en...</td>\n",
       "      <td>https://github.com/topics/ansible</td>\n",
       "    </tr>\n",
       "    <tr>\n",
       "      <th>7</th>\n",
       "      <td>API</td>\n",
       "      <td>An API (Application Programming Interface) is ...</td>\n",
       "      <td>https://github.com/topics/api</td>\n",
       "    </tr>\n",
       "    <tr>\n",
       "      <th>8</th>\n",
       "      <td>Arduino</td>\n",
       "      <td>Arduino is an open source hardware and softwar...</td>\n",
       "      <td>https://github.com/topics/arduino</td>\n",
       "    </tr>\n",
       "    <tr>\n",
       "      <th>9</th>\n",
       "      <td>ASP.NET</td>\n",
       "      <td>ASP.NET is a web framework for building modern...</td>\n",
       "      <td>https://github.com/topics/aspnet</td>\n",
       "    </tr>\n",
       "    <tr>\n",
       "      <th>10</th>\n",
       "      <td>Atom</td>\n",
       "      <td>Atom is a open source text editor built with w...</td>\n",
       "      <td>https://github.com/topics/atom</td>\n",
       "    </tr>\n",
       "    <tr>\n",
       "      <th>11</th>\n",
       "      <td>Awesome Lists</td>\n",
       "      <td>An awesome list is a list of awesome things cu...</td>\n",
       "      <td>https://github.com/topics/awesome</td>\n",
       "    </tr>\n",
       "    <tr>\n",
       "      <th>12</th>\n",
       "      <td>Amazon Web Services</td>\n",
       "      <td>Amazon Web Services provides on-demand cloud c...</td>\n",
       "      <td>https://github.com/topics/aws</td>\n",
       "    </tr>\n",
       "    <tr>\n",
       "      <th>13</th>\n",
       "      <td>Azure</td>\n",
       "      <td>Azure is a cloud computing service created by ...</td>\n",
       "      <td>https://github.com/topics/azure</td>\n",
       "    </tr>\n",
       "    <tr>\n",
       "      <th>14</th>\n",
       "      <td>Babel</td>\n",
       "      <td>Babel is a compiler for writing next generatio...</td>\n",
       "      <td>https://github.com/topics/babel</td>\n",
       "    </tr>\n",
       "    <tr>\n",
       "      <th>15</th>\n",
       "      <td>Bash</td>\n",
       "      <td>Bash is a shell and command language interpret...</td>\n",
       "      <td>https://github.com/topics/bash</td>\n",
       "    </tr>\n",
       "    <tr>\n",
       "      <th>16</th>\n",
       "      <td>Bitcoin</td>\n",
       "      <td>Bitcoin is a cryptocurrency developed by Satos...</td>\n",
       "      <td>https://github.com/topics/bitcoin</td>\n",
       "    </tr>\n",
       "    <tr>\n",
       "      <th>17</th>\n",
       "      <td>Bootstrap</td>\n",
       "      <td>Bootstrap is an HTML, CSS, and JavaScript fram...</td>\n",
       "      <td>https://github.com/topics/bootstrap</td>\n",
       "    </tr>\n",
       "    <tr>\n",
       "      <th>18</th>\n",
       "      <td>Bot</td>\n",
       "      <td>A bot is an application that runs automated ta...</td>\n",
       "      <td>https://github.com/topics/bot</td>\n",
       "    </tr>\n",
       "    <tr>\n",
       "      <th>19</th>\n",
       "      <td>C</td>\n",
       "      <td>C is a general purpose programming language th...</td>\n",
       "      <td>https://github.com/topics/c</td>\n",
       "    </tr>\n",
       "    <tr>\n",
       "      <th>20</th>\n",
       "      <td>Chrome</td>\n",
       "      <td>Chrome is a web browser from the tech company ...</td>\n",
       "      <td>https://github.com/topics/chrome</td>\n",
       "    </tr>\n",
       "    <tr>\n",
       "      <th>21</th>\n",
       "      <td>Chrome extension</td>\n",
       "      <td>Chrome extensions enable users to customize th...</td>\n",
       "      <td>https://github.com/topics/chrome-extension</td>\n",
       "    </tr>\n",
       "    <tr>\n",
       "      <th>22</th>\n",
       "      <td>Command line interface</td>\n",
       "      <td>A CLI, or command-line interface, is a console...</td>\n",
       "      <td>https://github.com/topics/cli</td>\n",
       "    </tr>\n",
       "    <tr>\n",
       "      <th>23</th>\n",
       "      <td>Clojure</td>\n",
       "      <td>Clojure is a dynamic, general-purpose programm...</td>\n",
       "      <td>https://github.com/topics/clojure</td>\n",
       "    </tr>\n",
       "    <tr>\n",
       "      <th>24</th>\n",
       "      <td>Code quality</td>\n",
       "      <td>Automate your code review with style, quality,...</td>\n",
       "      <td>https://github.com/topics/code-quality</td>\n",
       "    </tr>\n",
       "    <tr>\n",
       "      <th>25</th>\n",
       "      <td>Code review</td>\n",
       "      <td>Ensure your code meets quality standards and s...</td>\n",
       "      <td>https://github.com/topics/code-review</td>\n",
       "    </tr>\n",
       "    <tr>\n",
       "      <th>26</th>\n",
       "      <td>Compiler</td>\n",
       "      <td>Compilers are software that translate higher-l...</td>\n",
       "      <td>https://github.com/topics/compiler</td>\n",
       "    </tr>\n",
       "    <tr>\n",
       "      <th>27</th>\n",
       "      <td>Continuous integration</td>\n",
       "      <td>Automatically build and test your code as you ...</td>\n",
       "      <td>https://github.com/topics/continuous-integration</td>\n",
       "    </tr>\n",
       "    <tr>\n",
       "      <th>28</th>\n",
       "      <td>COVID-19</td>\n",
       "      <td>The coronavirus disease 2019 (COVID-19) is an ...</td>\n",
       "      <td>https://github.com/topics/covid-19</td>\n",
       "    </tr>\n",
       "    <tr>\n",
       "      <th>29</th>\n",
       "      <td>C++</td>\n",
       "      <td>C++ is a general purpose and object-oriented p...</td>\n",
       "      <td>https://github.com/topics/cpp</td>\n",
       "    </tr>\n",
       "  </tbody>\n",
       "</table>\n",
       "</div>"
      ],
      "text/plain": [
       "                     Topic                                        Description  \\\n",
       "0                       3D  3D modeling is the process of virtually develo...   \n",
       "1                     Ajax  Ajax is a technique for creating interactive w...   \n",
       "2                Algorithm  Algorithms are self-contained sequences that c...   \n",
       "3                      Amp  Amp is a non-blocking concurrency library for ...   \n",
       "4                  Android  Android is an operating system built by Google...   \n",
       "5                  Angular  Angular is an open source web application plat...   \n",
       "6                  Ansible  Ansible is a simple and powerful automation en...   \n",
       "7                      API  An API (Application Programming Interface) is ...   \n",
       "8                  Arduino  Arduino is an open source hardware and softwar...   \n",
       "9                  ASP.NET  ASP.NET is a web framework for building modern...   \n",
       "10                    Atom  Atom is a open source text editor built with w...   \n",
       "11           Awesome Lists  An awesome list is a list of awesome things cu...   \n",
       "12     Amazon Web Services  Amazon Web Services provides on-demand cloud c...   \n",
       "13                   Azure  Azure is a cloud computing service created by ...   \n",
       "14                   Babel  Babel is a compiler for writing next generatio...   \n",
       "15                    Bash  Bash is a shell and command language interpret...   \n",
       "16                 Bitcoin  Bitcoin is a cryptocurrency developed by Satos...   \n",
       "17               Bootstrap  Bootstrap is an HTML, CSS, and JavaScript fram...   \n",
       "18                     Bot  A bot is an application that runs automated ta...   \n",
       "19                       C  C is a general purpose programming language th...   \n",
       "20                  Chrome  Chrome is a web browser from the tech company ...   \n",
       "21        Chrome extension  Chrome extensions enable users to customize th...   \n",
       "22  Command line interface  A CLI, or command-line interface, is a console...   \n",
       "23                 Clojure  Clojure is a dynamic, general-purpose programm...   \n",
       "24            Code quality  Automate your code review with style, quality,...   \n",
       "25             Code review  Ensure your code meets quality standards and s...   \n",
       "26                Compiler  Compilers are software that translate higher-l...   \n",
       "27  Continuous integration  Automatically build and test your code as you ...   \n",
       "28                COVID-19  The coronavirus disease 2019 (COVID-19) is an ...   \n",
       "29                     C++  C++ is a general purpose and object-oriented p...   \n",
       "\n",
       "                                                 URL  \n",
       "0                       https://github.com/topics/3d  \n",
       "1                     https://github.com/topics/ajax  \n",
       "2                https://github.com/topics/algorithm  \n",
       "3                    https://github.com/topics/amphp  \n",
       "4                  https://github.com/topics/android  \n",
       "5                  https://github.com/topics/angular  \n",
       "6                  https://github.com/topics/ansible  \n",
       "7                      https://github.com/topics/api  \n",
       "8                  https://github.com/topics/arduino  \n",
       "9                   https://github.com/topics/aspnet  \n",
       "10                    https://github.com/topics/atom  \n",
       "11                 https://github.com/topics/awesome  \n",
       "12                     https://github.com/topics/aws  \n",
       "13                   https://github.com/topics/azure  \n",
       "14                   https://github.com/topics/babel  \n",
       "15                    https://github.com/topics/bash  \n",
       "16                 https://github.com/topics/bitcoin  \n",
       "17               https://github.com/topics/bootstrap  \n",
       "18                     https://github.com/topics/bot  \n",
       "19                       https://github.com/topics/c  \n",
       "20                  https://github.com/topics/chrome  \n",
       "21        https://github.com/topics/chrome-extension  \n",
       "22                     https://github.com/topics/cli  \n",
       "23                 https://github.com/topics/clojure  \n",
       "24            https://github.com/topics/code-quality  \n",
       "25             https://github.com/topics/code-review  \n",
       "26                https://github.com/topics/compiler  \n",
       "27  https://github.com/topics/continuous-integration  \n",
       "28                https://github.com/topics/covid-19  \n",
       "29                     https://github.com/topics/cpp  "
      ]
     },
     "execution_count": 32,
     "metadata": {},
     "output_type": "execute_result"
    }
   ],
   "source": [
    "topics_df"
   ]
  },
  {
   "cell_type": "code",
   "execution_count": 73,
   "metadata": {
    "id": "eb6U4nr2g2mp"
   },
   "outputs": [],
   "source": [
    "# creating CSV file of topics\n",
    "topics_df.to_csv('topics.csv', index = None) \n",
    "# setting index=None so that the index no doesnt appear at start of each element"
   ]
  },
  {
   "cell_type": "markdown",
   "metadata": {
    "id": "3XHRD-6Og2mq"
   },
   "source": [
    "### Getting information out of a topic page\n"
   ]
  },
  {
   "cell_type": "code",
   "execution_count": 34,
   "metadata": {
    "id": "npwkweMEg2mr"
   },
   "outputs": [],
   "source": [
    "# getting the url of each topic page (3D page here)\n",
    "topic_page_url = topic_urls[0]"
   ]
  },
  {
   "cell_type": "code",
   "execution_count": 35,
   "metadata": {
    "id": "jLvGEdRpg2ms"
   },
   "outputs": [
    {
     "data": {
      "text/plain": [
       "'https://github.com/topics/3d'"
      ]
     },
     "execution_count": 35,
     "metadata": {},
     "output_type": "execute_result"
    }
   ],
   "source": [
    "topic_page_url"
   ]
  },
  {
   "cell_type": "code",
   "execution_count": 36,
   "metadata": {
    "id": "UiW1taiYg2ms"
   },
   "outputs": [],
   "source": [
    "# geting response of topic page\n",
    "response = requests.get(topic_page_url)"
   ]
  },
  {
   "cell_type": "code",
   "execution_count": 37,
   "metadata": {
    "id": "xRL84zWtg2mt"
   },
   "outputs": [
    {
     "data": {
      "text/plain": [
       "200"
      ]
     },
     "execution_count": 37,
     "metadata": {},
     "output_type": "execute_result"
    }
   ],
   "source": [
    "response.status_code"
   ]
  },
  {
   "cell_type": "code",
   "execution_count": 38,
   "metadata": {
    "id": "_4qbhsfVg2mw"
   },
   "outputs": [
    {
     "data": {
      "text/plain": [
       "644758"
      ]
     },
     "execution_count": 38,
     "metadata": {},
     "output_type": "execute_result"
    }
   ],
   "source": [
    "# checking the no of characters on the 3D topic page\n",
    "len(response.text)"
   ]
  },
  {
   "cell_type": "code",
   "execution_count": 39,
   "metadata": {
    "id": "ADdwHX-6g2mx"
   },
   "outputs": [],
   "source": [
    "doc = BeautifulSoup(response.text, 'html.parser')"
   ]
  },
  {
   "cell_type": "code",
   "execution_count": 40,
   "metadata": {
    "id": "yliIDZXSg2m2"
   },
   "outputs": [],
   "source": [
    "# parsing the username of the top 30 repositories from the 3D topic page which lies inside h3 tag\n",
    "h3_selection_class = 'f3 color-fg-muted text-normal lh-condensed' \n",
    "\n",
    "repo_tags = doc.find_all('h3', {'class': h3_selection_class})"
   ]
  },
  {
   "cell_type": "code",
   "execution_count": 41,
   "metadata": {
    "id": "NaKX1sCvg2m5"
   },
   "outputs": [
    {
     "data": {
      "text/plain": [
       "[<h3 class=\"f3 color-fg-muted text-normal lh-condensed\">\n",
       " <a data-ga-click=\"Explore, go to repository owner, location:explore feed\" data-hydro-click='{\"event_type\":\"explore.click\",\"payload\":{\"click_context\":\"REPOSITORY_CARD\",\"click_target\":\"OWNER\",\"click_visual_representation\":\"REPOSITORY_OWNER_HEADING\",\"actor_id\":null,\"record_id\":97088,\"originating_url\":\"https://github.com/topics/3d\",\"user_id\":null}}' data-hydro-click-hmac=\"4bdbc49d3c05ae7f70b531fbce709a384200b0768554e0172950286a8db30940\" data-turbo=\"false\" data-view-component=\"true\" href=\"/mrdoob\">\n",
       "             mrdoob\n",
       " </a>          /\n",
       "           <a class=\"text-bold wb-break-word\" data-ga-click=\"Explore, go to repository, location:explore feed\" data-hydro-click='{\"event_type\":\"explore.click\",\"payload\":{\"click_context\":\"REPOSITORY_CARD\",\"click_target\":\"REPOSITORY\",\"click_visual_representation\":\"REPOSITORY_NAME_HEADING\",\"actor_id\":null,\"record_id\":576201,\"originating_url\":\"https://github.com/topics/3d\",\"user_id\":null}}' data-hydro-click-hmac=\"517d3d5cb9d89752156923904a4238816bc9b51ab7772f3e3644ce897d8dd4e5\" data-turbo=\"false\" data-view-component=\"true\" href=\"/mrdoob/three.js\">\n",
       "             three.js\n",
       " </a> </h3>,\n",
       " <h3 class=\"f3 color-fg-muted text-normal lh-condensed\">\n",
       " <a data-ga-click=\"Explore, go to repository owner, location:explore feed\" data-hydro-click='{\"event_type\":\"explore.click\",\"payload\":{\"click_context\":\"REPOSITORY_CARD\",\"click_target\":\"OWNER\",\"click_visual_representation\":\"REPOSITORY_OWNER_HEADING\",\"actor_id\":null,\"record_id\":509841,\"originating_url\":\"https://github.com/topics/3d\",\"user_id\":null}}' data-hydro-click-hmac=\"760dcd7b253cb1a27d9b1a8675e86db885295be4e0d8d9fa7397adf923075d36\" data-turbo=\"false\" data-view-component=\"true\" href=\"/libgdx\">\n",
       "             libgdx\n",
       " </a>          /\n",
       "           <a class=\"text-bold wb-break-word\" data-ga-click=\"Explore, go to repository, location:explore feed\" data-hydro-click='{\"event_type\":\"explore.click\",\"payload\":{\"click_context\":\"REPOSITORY_CARD\",\"click_target\":\"REPOSITORY\",\"click_visual_representation\":\"REPOSITORY_NAME_HEADING\",\"actor_id\":null,\"record_id\":5373551,\"originating_url\":\"https://github.com/topics/3d\",\"user_id\":null}}' data-hydro-click-hmac=\"ff9d8fbd4b6a268d54aa44ebd06922a789e146ae9d21db01b8ba7839646f5507\" data-turbo=\"false\" data-view-component=\"true\" href=\"/libgdx/libgdx\">\n",
       "             libgdx\n",
       " </a> </h3>,\n",
       " <h3 class=\"f3 color-fg-muted text-normal lh-condensed\">\n",
       " <a data-ga-click=\"Explore, go to repository owner, location:explore feed\" data-hydro-click='{\"event_type\":\"explore.click\",\"payload\":{\"click_context\":\"REPOSITORY_CARD\",\"click_target\":\"OWNER\",\"click_visual_representation\":\"REPOSITORY_OWNER_HEADING\",\"actor_id\":null,\"record_id\":45790596,\"originating_url\":\"https://github.com/topics/3d\",\"user_id\":null}}' data-hydro-click-hmac=\"14658fab6217ec4ba70f16dd98006d4334793fae49cc25ce2e1c0bb5a8950006\" data-turbo=\"false\" data-view-component=\"true\" href=\"/pmndrs\">\n",
       "             pmndrs\n",
       " </a>          /\n",
       "           <a class=\"text-bold wb-break-word\" data-ga-click=\"Explore, go to repository, location:explore feed\" data-hydro-click='{\"event_type\":\"explore.click\",\"payload\":{\"click_context\":\"REPOSITORY_CARD\",\"click_target\":\"REPOSITORY\",\"click_visual_representation\":\"REPOSITORY_NAME_HEADING\",\"actor_id\":null,\"record_id\":172521926,\"originating_url\":\"https://github.com/topics/3d\",\"user_id\":null}}' data-hydro-click-hmac=\"629be4efc1260d27fe29201a1901eb808cbf995e4a51d877282b7164242dbadf\" data-turbo=\"false\" data-view-component=\"true\" href=\"/pmndrs/react-three-fiber\">\n",
       "             react-three-fiber\n",
       " </a> </h3>,\n",
       " <h3 class=\"f3 color-fg-muted text-normal lh-condensed\">\n",
       " <a data-ga-click=\"Explore, go to repository owner, location:explore feed\" data-hydro-click='{\"event_type\":\"explore.click\",\"payload\":{\"click_context\":\"REPOSITORY_CARD\",\"click_target\":\"OWNER\",\"click_visual_representation\":\"REPOSITORY_OWNER_HEADING\",\"actor_id\":null,\"record_id\":4855800,\"originating_url\":\"https://github.com/topics/3d\",\"user_id\":null}}' data-hydro-click-hmac=\"35041b8540fc503301f61f50122b6ae6d1b78719943ab6392df86920498edb30\" data-turbo=\"false\" data-view-component=\"true\" href=\"/BabylonJS\">\n",
       "             BabylonJS\n",
       " </a>          /\n",
       "           <a class=\"text-bold wb-break-word\" data-ga-click=\"Explore, go to repository, location:explore feed\" data-hydro-click='{\"event_type\":\"explore.click\",\"payload\":{\"click_context\":\"REPOSITORY_CARD\",\"click_target\":\"REPOSITORY\",\"click_visual_representation\":\"REPOSITORY_NAME_HEADING\",\"actor_id\":null,\"record_id\":11007313,\"originating_url\":\"https://github.com/topics/3d\",\"user_id\":null}}' data-hydro-click-hmac=\"2806ba0b1f7f4081c38662a53b466b7bc022050b5dafe4108bfab142f5214b41\" data-turbo=\"false\" data-view-component=\"true\" href=\"/BabylonJS/Babylon.js\">\n",
       "             Babylon.js\n",
       " </a> </h3>,\n",
       " <h3 class=\"f3 color-fg-muted text-normal lh-condensed\">\n",
       " <a data-ga-click=\"Explore, go to repository owner, location:explore feed\" data-hydro-click='{\"event_type\":\"explore.click\",\"payload\":{\"click_context\":\"REPOSITORY_CARD\",\"click_target\":\"OWNER\",\"click_visual_representation\":\"REPOSITORY_OWNER_HEADING\",\"actor_id\":null,\"record_id\":16024092,\"originating_url\":\"https://github.com/topics/3d\",\"user_id\":null}}' data-hydro-click-hmac=\"b3db1ab47cddd377d61855a33924676044d55c8724ce9233f202e64b2a59e40e\" data-turbo=\"false\" data-view-component=\"true\" href=\"/aframevr\">\n",
       "             aframevr\n",
       " </a>          /\n",
       "           <a class=\"text-bold wb-break-word\" data-ga-click=\"Explore, go to repository, location:explore feed\" data-hydro-click='{\"event_type\":\"explore.click\",\"payload\":{\"click_context\":\"REPOSITORY_CARD\",\"click_target\":\"REPOSITORY\",\"click_visual_representation\":\"REPOSITORY_NAME_HEADING\",\"actor_id\":null,\"record_id\":42488903,\"originating_url\":\"https://github.com/topics/3d\",\"user_id\":null}}' data-hydro-click-hmac=\"1e97be781c78a538510c9e0a7eb97d3d14666ccab0fce09440cf2ef4f543317a\" data-turbo=\"false\" data-view-component=\"true\" href=\"/aframevr/aframe\">\n",
       "             aframe\n",
       " </a> </h3>,\n",
       " <h3 class=\"f3 color-fg-muted text-normal lh-condensed\">\n",
       " <a data-ga-click=\"Explore, go to repository owner, location:explore feed\" data-hydro-click='{\"event_type\":\"explore.click\",\"payload\":{\"click_context\":\"REPOSITORY_CARD\",\"click_target\":\"OWNER\",\"click_visual_representation\":\"REPOSITORY_OWNER_HEADING\",\"actor_id\":null,\"record_id\":1029298,\"originating_url\":\"https://github.com/topics/3d\",\"user_id\":null}}' data-hydro-click-hmac=\"35cf14368807d0a0abce48667cf2c0778c4e44ceeb4edde9a860e17a9efe6443\" data-turbo=\"false\" data-view-component=\"true\" href=\"/ssloy\">\n",
       "             ssloy\n",
       " </a>          /\n",
       "           <a class=\"text-bold wb-break-word\" data-ga-click=\"Explore, go to repository, location:explore feed\" data-hydro-click='{\"event_type\":\"explore.click\",\"payload\":{\"click_context\":\"REPOSITORY_CARD\",\"click_target\":\"REPOSITORY\",\"click_visual_representation\":\"REPOSITORY_NAME_HEADING\",\"actor_id\":null,\"record_id\":29397594,\"originating_url\":\"https://github.com/topics/3d\",\"user_id\":null}}' data-hydro-click-hmac=\"b27b44faaea7b496d3a92fd58b20e39b4306098a16dc535f3a74969bd25fc472\" data-turbo=\"false\" data-view-component=\"true\" href=\"/ssloy/tinyrenderer\">\n",
       "             tinyrenderer\n",
       " </a> </h3>,\n",
       " <h3 class=\"f3 color-fg-muted text-normal lh-condensed\">\n",
       " <a data-ga-click=\"Explore, go to repository owner, location:explore feed\" data-hydro-click='{\"event_type\":\"explore.click\",\"payload\":{\"click_context\":\"REPOSITORY_CARD\",\"click_target\":\"OWNER\",\"click_visual_representation\":\"REPOSITORY_OWNER_HEADING\",\"actor_id\":null,\"record_id\":1661343,\"originating_url\":\"https://github.com/topics/3d\",\"user_id\":null}}' data-hydro-click-hmac=\"92e006e158e11505867ec48dd3b1f9f2e0a12e03556d650ac6163f635b6018db\" data-turbo=\"false\" data-view-component=\"true\" href=\"/lettier\">\n",
       "             lettier\n",
       " </a>          /\n",
       "           <a class=\"text-bold wb-break-word\" data-ga-click=\"Explore, go to repository, location:explore feed\" data-hydro-click='{\"event_type\":\"explore.click\",\"payload\":{\"click_context\":\"REPOSITORY_CARD\",\"click_target\":\"REPOSITORY\",\"click_visual_representation\":\"REPOSITORY_NAME_HEADING\",\"actor_id\":null,\"record_id\":186309296,\"originating_url\":\"https://github.com/topics/3d\",\"user_id\":null}}' data-hydro-click-hmac=\"632d2fdc55d44af08fe1e943134b255567a5fc78d44f267f13687602afc3c8f4\" data-turbo=\"false\" data-view-component=\"true\" href=\"/lettier/3d-game-shaders-for-beginners\">\n",
       "             3d-game-shaders-for-beginners\n",
       " </a> </h3>,\n",
       " <h3 class=\"f3 color-fg-muted text-normal lh-condensed\">\n",
       " <a data-ga-click=\"Explore, go to repository owner, location:explore feed\" data-hydro-click='{\"event_type\":\"explore.click\",\"payload\":{\"click_context\":\"REPOSITORY_CARD\",\"click_target\":\"OWNER\",\"click_visual_representation\":\"REPOSITORY_OWNER_HEADING\",\"actor_id\":null,\"record_id\":2306237,\"originating_url\":\"https://github.com/topics/3d\",\"user_id\":null}}' data-hydro-click-hmac=\"a27e82740ebd440eb8aec51759f134d74f147b9f07c9e1b2a8e960ff36c0e0dd\" data-turbo=\"false\" data-view-component=\"true\" href=\"/FreeCAD\">\n",
       "             FreeCAD\n",
       " </a>          /\n",
       "           <a class=\"text-bold wb-break-word\" data-ga-click=\"Explore, go to repository, location:explore feed\" data-hydro-click='{\"event_type\":\"explore.click\",\"payload\":{\"click_context\":\"REPOSITORY_CARD\",\"click_target\":\"REPOSITORY\",\"click_visual_representation\":\"REPOSITORY_NAME_HEADING\",\"actor_id\":null,\"record_id\":5736080,\"originating_url\":\"https://github.com/topics/3d\",\"user_id\":null}}' data-hydro-click-hmac=\"f409ec71fa689bb04d504c411bd9676bb200cf6639b2678f72b9af816768dbbf\" data-turbo=\"false\" data-view-component=\"true\" href=\"/FreeCAD/FreeCAD\">\n",
       "             FreeCAD\n",
       " </a> </h3>,\n",
       " <h3 class=\"f3 color-fg-muted text-normal lh-condensed\">\n",
       " <a data-ga-click=\"Explore, go to repository owner, location:explore feed\" data-hydro-click='{\"event_type\":\"explore.click\",\"payload\":{\"click_context\":\"REPOSITORY_CARD\",\"click_target\":\"OWNER\",\"click_visual_representation\":\"REPOSITORY_OWNER_HEADING\",\"actor_id\":null,\"record_id\":573910,\"originating_url\":\"https://github.com/topics/3d\",\"user_id\":null}}' data-hydro-click-hmac=\"f5b3a8fc92d3f30b4468ca6255d50ef1ef41af4a277e99a44368380d05695b49\" data-turbo=\"false\" data-view-component=\"true\" href=\"/metafizzy\">\n",
       "             metafizzy\n",
       " </a>          /\n",
       "           <a class=\"text-bold wb-break-word\" data-ga-click=\"Explore, go to repository, location:explore feed\" data-hydro-click='{\"event_type\":\"explore.click\",\"payload\":{\"click_context\":\"REPOSITORY_CARD\",\"click_target\":\"REPOSITORY\",\"click_visual_representation\":\"REPOSITORY_NAME_HEADING\",\"actor_id\":null,\"record_id\":174164624,\"originating_url\":\"https://github.com/topics/3d\",\"user_id\":null}}' data-hydro-click-hmac=\"6ef1f8dc07d99135ad796148e15edb48576348e33a218fa22dbb0a3954450801\" data-turbo=\"false\" data-view-component=\"true\" href=\"/metafizzy/zdog\">\n",
       "             zdog\n",
       " </a> </h3>,\n",
       " <h3 class=\"f3 color-fg-muted text-normal lh-condensed\">\n",
       " <a data-ga-click=\"Explore, go to repository owner, location:explore feed\" data-hydro-click='{\"event_type\":\"explore.click\",\"payload\":{\"click_context\":\"REPOSITORY_CARD\",\"click_target\":\"OWNER\",\"click_visual_representation\":\"REPOSITORY_OWNER_HEADING\",\"actor_id\":null,\"record_id\":54716382,\"originating_url\":\"https://github.com/topics/3d\",\"user_id\":null}}' data-hydro-click-hmac=\"61f9f002cf1a4e74bf16f253674df30f6d7e65ee4900647326a173ccb8f31afe\" data-turbo=\"false\" data-view-component=\"true\" href=\"/CesiumGS\">\n",
       "             CesiumGS\n",
       " </a>          /\n",
       "           <a class=\"text-bold wb-break-word\" data-ga-click=\"Explore, go to repository, location:explore feed\" data-hydro-click='{\"event_type\":\"explore.click\",\"payload\":{\"click_context\":\"REPOSITORY_CARD\",\"click_target\":\"REPOSITORY\",\"click_visual_representation\":\"REPOSITORY_NAME_HEADING\",\"actor_id\":null,\"record_id\":3606738,\"originating_url\":\"https://github.com/topics/3d\",\"user_id\":null}}' data-hydro-click-hmac=\"415ccd1ea052027e4073ace6132657d6ac12d43cea98b66453bbcdbed555faf5\" data-turbo=\"false\" data-view-component=\"true\" href=\"/CesiumGS/cesium\">\n",
       "             cesium\n",
       " </a> </h3>,\n",
       " <h3 class=\"f3 color-fg-muted text-normal lh-condensed\">\n",
       " <a data-ga-click=\"Explore, go to repository owner, location:explore feed\" data-hydro-click='{\"event_type\":\"explore.click\",\"payload\":{\"click_context\":\"REPOSITORY_CARD\",\"click_target\":\"OWNER\",\"click_visual_representation\":\"REPOSITORY_OWNER_HEADING\",\"actor_id\":null,\"record_id\":16217333,\"originating_url\":\"https://github.com/topics/3d\",\"user_id\":null}}' data-hydro-click-hmac=\"0077f42015645d900471e0cf0ce8a3d643d649d4fa3ff4d0b3fca48249c1b695\" data-turbo=\"false\" data-view-component=\"true\" href=\"/timzhang642\">\n",
       "             timzhang642\n",
       " </a>          /\n",
       "           <a class=\"text-bold wb-break-word\" data-ga-click=\"Explore, go to repository, location:explore feed\" data-hydro-click='{\"event_type\":\"explore.click\",\"payload\":{\"click_context\":\"REPOSITORY_CARD\",\"click_target\":\"REPOSITORY\",\"click_visual_representation\":\"REPOSITORY_NAME_HEADING\",\"actor_id\":null,\"record_id\":100120455,\"originating_url\":\"https://github.com/topics/3d\",\"user_id\":null}}' data-hydro-click-hmac=\"5ac29541d56b0a4f137b3adb34578840be52d1f547359a52b3f4ac007241de29\" data-turbo=\"false\" data-view-component=\"true\" href=\"/timzhang642/3D-Machine-Learning\">\n",
       "             3D-Machine-Learning\n",
       " </a> </h3>,\n",
       " <h3 class=\"f3 color-fg-muted text-normal lh-condensed\">\n",
       " <a data-ga-click=\"Explore, go to repository owner, location:explore feed\" data-hydro-click='{\"event_type\":\"explore.click\",\"payload\":{\"click_context\":\"REPOSITORY_CARD\",\"click_target\":\"OWNER\",\"click_visual_representation\":\"REPOSITORY_OWNER_HEADING\",\"actor_id\":null,\"record_id\":6295625,\"originating_url\":\"https://github.com/topics/3d\",\"user_id\":null}}' data-hydro-click-hmac=\"7220683d54951178816028424a94bb30c0e0deb6ed51a32331c4c5a4f1344a62\" data-turbo=\"false\" data-view-component=\"true\" href=\"/a1studmuffin\">\n",
       "             a1studmuffin\n",
       " </a>          /\n",
       "           <a class=\"text-bold wb-break-word\" data-ga-click=\"Explore, go to repository, location:explore feed\" data-hydro-click='{\"event_type\":\"explore.click\",\"payload\":{\"click_context\":\"REPOSITORY_CARD\",\"click_target\":\"REPOSITORY\",\"click_visual_representation\":\"REPOSITORY_NAME_HEADING\",\"actor_id\":null,\"record_id\":61088333,\"originating_url\":\"https://github.com/topics/3d\",\"user_id\":null}}' data-hydro-click-hmac=\"02354cc3f2ad7480715b6a482b5f7f035bd5abedba1fc0faead1894e17a61820\" data-turbo=\"false\" data-view-component=\"true\" href=\"/a1studmuffin/SpaceshipGenerator\">\n",
       "             SpaceshipGenerator\n",
       " </a> </h3>,\n",
       " <h3 class=\"f3 color-fg-muted text-normal lh-condensed\">\n",
       " <a data-ga-click=\"Explore, go to repository owner, location:explore feed\" data-hydro-click='{\"event_type\":\"explore.click\",\"payload\":{\"click_context\":\"REPOSITORY_CARD\",\"click_target\":\"OWNER\",\"click_visual_representation\":\"REPOSITORY_OWNER_HEADING\",\"actor_id\":null,\"record_id\":23507030,\"originating_url\":\"https://github.com/topics/3d\",\"user_id\":null}}' data-hydro-click-hmac=\"2690981e9e9eeb03ddf9f0f49f0c3167881395f2850f1e2b8012d64f5db4088d\" data-turbo=\"false\" data-view-component=\"true\" href=\"/isl-org\">\n",
       "             isl-org\n",
       " </a>          /\n",
       "           <a class=\"text-bold wb-break-word\" data-ga-click=\"Explore, go to repository, location:explore feed\" data-hydro-click='{\"event_type\":\"explore.click\",\"payload\":{\"click_context\":\"REPOSITORY_CARD\",\"click_target\":\"REPOSITORY\",\"click_visual_representation\":\"REPOSITORY_NAME_HEADING\",\"actor_id\":null,\"record_id\":75413130,\"originating_url\":\"https://github.com/topics/3d\",\"user_id\":null}}' data-hydro-click-hmac=\"3376b3eb05aaf87cba8d79a982e9ed5940507b1d0c89a16fb29986e1bdd5e302\" data-turbo=\"false\" data-view-component=\"true\" href=\"/isl-org/Open3D\">\n",
       "             Open3D\n",
       " </a> </h3>,\n",
       " <h3 class=\"f3 color-fg-muted text-normal lh-condensed\">\n",
       " <a data-ga-click=\"Explore, go to repository owner, location:explore feed\" data-hydro-click='{\"event_type\":\"explore.click\",\"payload\":{\"click_context\":\"REPOSITORY_CARD\",\"click_target\":\"OWNER\",\"click_visual_representation\":\"REPOSITORY_OWNER_HEADING\",\"actor_id\":null,\"record_id\":52924476,\"originating_url\":\"https://github.com/topics/3d\",\"user_id\":null}}' data-hydro-click-hmac=\"3ef621e0683e557bb6ec46fbf192cfbfdd0fa2e15d1ed98932b3546e43be6655\" data-turbo=\"false\" data-view-component=\"true\" href=\"/blender\">\n",
       "             blender\n",
       " </a>          /\n",
       "           <a class=\"text-bold wb-break-word\" data-ga-click=\"Explore, go to repository, location:explore feed\" data-hydro-click='{\"event_type\":\"explore.click\",\"payload\":{\"click_context\":\"REPOSITORY_CARD\",\"click_target\":\"REPOSITORY\",\"click_visual_representation\":\"REPOSITORY_NAME_HEADING\",\"actor_id\":null,\"record_id\":213916896,\"originating_url\":\"https://github.com/topics/3d\",\"user_id\":null}}' data-hydro-click-hmac=\"ac5fee340bdeebc5fd06dbf09aca394adad6d0a397aa20f51ddee7ea76ed61f0\" data-turbo=\"false\" data-view-component=\"true\" href=\"/blender/blender\">\n",
       "             blender\n",
       " </a> </h3>,\n",
       " <h3 class=\"f3 color-fg-muted text-normal lh-condensed\">\n",
       " <a data-ga-click=\"Explore, go to repository owner, location:explore feed\" data-hydro-click='{\"event_type\":\"explore.click\",\"payload\":{\"click_context\":\"REPOSITORY_CARD\",\"click_target\":\"OWNER\",\"click_visual_representation\":\"REPOSITORY_OWNER_HEADING\",\"actor_id\":null,\"record_id\":5639024,\"originating_url\":\"https://github.com/topics/3d\",\"user_id\":null}}' data-hydro-click-hmac=\"2b46ab94ba783e748930d230cdb4e412a8f4935af6bb89136ae4f1c32f1b5ccb\" data-turbo=\"false\" data-view-component=\"true\" href=\"/domlysz\">\n",
       "             domlysz\n",
       " </a>          /\n",
       "           <a class=\"text-bold wb-break-word\" data-ga-click=\"Explore, go to repository, location:explore feed\" data-hydro-click='{\"event_type\":\"explore.click\",\"payload\":{\"click_context\":\"REPOSITORY_CARD\",\"click_target\":\"REPOSITORY\",\"click_visual_representation\":\"REPOSITORY_NAME_HEADING\",\"actor_id\":null,\"record_id\":19577136,\"originating_url\":\"https://github.com/topics/3d\",\"user_id\":null}}' data-hydro-click-hmac=\"7c97f5ccba5ac252cf18348fde7349654b1bcc5a2849dff71c6c86aa5659f495\" data-turbo=\"false\" data-view-component=\"true\" href=\"/domlysz/BlenderGIS\">\n",
       "             BlenderGIS\n",
       " </a> </h3>,\n",
       " <h3 class=\"f3 color-fg-muted text-normal lh-condensed\">\n",
       " <a data-ga-click=\"Explore, go to repository owner, location:explore feed\" data-hydro-click='{\"event_type\":\"explore.click\",\"payload\":{\"click_context\":\"REPOSITORY_CARD\",\"click_target\":\"OWNER\",\"click_visual_representation\":\"REPOSITORY_OWNER_HEADING\",\"actor_id\":null,\"record_id\":29911379,\"originating_url\":\"https://github.com/topics/3d\",\"user_id\":null}}' data-hydro-click-hmac=\"f73e50528259296676fd44b4cdcf910acd91b7ec5540ff270bb045e86b1c38d8\" data-turbo=\"false\" data-view-component=\"true\" href=\"/spritejs\">\n",
       "             spritejs\n",
       " </a>          /\n",
       "           <a class=\"text-bold wb-break-word\" data-ga-click=\"Explore, go to repository, location:explore feed\" data-hydro-click='{\"event_type\":\"explore.click\",\"payload\":{\"click_context\":\"REPOSITORY_CARD\",\"click_target\":\"REPOSITORY\",\"click_visual_representation\":\"REPOSITORY_NAME_HEADING\",\"actor_id\":null,\"record_id\":96287699,\"originating_url\":\"https://github.com/topics/3d\",\"user_id\":null}}' data-hydro-click-hmac=\"a56e16d0a40310d1b96aaa49cca27395eceed1a101cf1a0bacaf5355cd7d0b54\" data-turbo=\"false\" data-view-component=\"true\" href=\"/spritejs/spritejs\">\n",
       "             spritejs\n",
       " </a> </h3>,\n",
       " <h3 class=\"f3 color-fg-muted text-normal lh-condensed\">\n",
       " <a data-ga-click=\"Explore, go to repository owner, location:explore feed\" data-hydro-click='{\"event_type\":\"explore.click\",\"payload\":{\"click_context\":\"REPOSITORY_CARD\",\"click_target\":\"OWNER\",\"click_visual_representation\":\"REPOSITORY_OWNER_HEADING\",\"actor_id\":null,\"record_id\":466370,\"originating_url\":\"https://github.com/topics/3d\",\"user_id\":null}}' data-hydro-click-hmac=\"6e27233282417634bd67b72ffd9eb417d80e8683b1df666e55551cc9b8be4532\" data-turbo=\"false\" data-view-component=\"true\" href=\"/openscad\">\n",
       "             openscad\n",
       " </a>          /\n",
       "           <a class=\"text-bold wb-break-word\" data-ga-click=\"Explore, go to repository, location:explore feed\" data-hydro-click='{\"event_type\":\"explore.click\",\"payload\":{\"click_context\":\"REPOSITORY_CARD\",\"click_target\":\"REPOSITORY\",\"click_visual_representation\":\"REPOSITORY_NAME_HEADING\",\"actor_id\":null,\"record_id\":1049088,\"originating_url\":\"https://github.com/topics/3d\",\"user_id\":null}}' data-hydro-click-hmac=\"ce459e10b38eff918a7732ee23229e2547b096565812cfa6a9fb3a60b47ed1bd\" data-turbo=\"false\" data-view-component=\"true\" href=\"/openscad/openscad\">\n",
       "             openscad\n",
       " </a> </h3>,\n",
       " <h3 class=\"f3 color-fg-muted text-normal lh-condensed\">\n",
       " <a data-ga-click=\"Explore, go to repository owner, location:explore feed\" data-hydro-click='{\"event_type\":\"explore.click\",\"payload\":{\"click_context\":\"REPOSITORY_CARD\",\"click_target\":\"OWNER\",\"click_visual_representation\":\"REPOSITORY_OWNER_HEADING\",\"actor_id\":null,\"record_id\":393515,\"originating_url\":\"https://github.com/topics/3d\",\"user_id\":null}}' data-hydro-click-hmac=\"c3bf27c338bea41a20ec22010a10d077bdc14c5edf8a9d3c14f464c1a18d4c24\" data-turbo=\"false\" data-view-component=\"true\" href=\"/jagenjo\">\n",
       "             jagenjo\n",
       " </a>          /\n",
       "           <a class=\"text-bold wb-break-word\" data-ga-click=\"Explore, go to repository, location:explore feed\" data-hydro-click='{\"event_type\":\"explore.click\",\"payload\":{\"click_context\":\"REPOSITORY_CARD\",\"click_target\":\"REPOSITORY\",\"click_visual_representation\":\"REPOSITORY_NAME_HEADING\",\"actor_id\":null,\"record_id\":40006776,\"originating_url\":\"https://github.com/topics/3d\",\"user_id\":null}}' data-hydro-click-hmac=\"f35c57e030fa0d745719a2f7ebb0d63d8025f9adf5beb0f674db3a4fc159026a\" data-turbo=\"false\" data-view-component=\"true\" href=\"/jagenjo/webglstudio.js\">\n",
       "             webglstudio.js\n",
       " </a> </h3>,\n",
       " <h3 class=\"f3 color-fg-muted text-normal lh-condensed\">\n",
       " <a data-ga-click=\"Explore, go to repository owner, location:explore feed\" data-hydro-click='{\"event_type\":\"explore.click\",\"payload\":{\"click_context\":\"REPOSITORY_CARD\",\"click_target\":\"OWNER\",\"click_visual_representation\":\"REPOSITORY_OWNER_HEADING\",\"actor_id\":null,\"record_id\":43156133,\"originating_url\":\"https://github.com/topics/3d\",\"user_id\":null}}' data-hydro-click-hmac=\"3fd24e8e9c72aec7e179a9e25c170d3622bf447cd08b47aeaeed5c12de9f4198\" data-turbo=\"false\" data-view-component=\"true\" href=\"/tensorspace-team\">\n",
       "             tensorspace-team\n",
       " </a>          /\n",
       "           <a class=\"text-bold wb-break-word\" data-ga-click=\"Explore, go to repository, location:explore feed\" data-hydro-click='{\"event_type\":\"explore.click\",\"payload\":{\"click_context\":\"REPOSITORY_CARD\",\"click_target\":\"REPOSITORY\",\"click_visual_representation\":\"REPOSITORY_NAME_HEADING\",\"actor_id\":null,\"record_id\":141901715,\"originating_url\":\"https://github.com/topics/3d\",\"user_id\":null}}' data-hydro-click-hmac=\"a57e8303ce8aceff7bbbf2ca5398ea4286a0e0a67af0a921472f4b4b26fe0ce1\" data-turbo=\"false\" data-view-component=\"true\" href=\"/tensorspace-team/tensorspace\">\n",
       "             tensorspace\n",
       " </a> </h3>,\n",
       " <h3 class=\"f3 color-fg-muted text-normal lh-condensed\">\n",
       " <a data-ga-click=\"Explore, go to repository owner, location:explore feed\" data-hydro-click='{\"event_type\":\"explore.click\",\"payload\":{\"click_context\":\"REPOSITORY_CARD\",\"click_target\":\"OWNER\",\"click_visual_representation\":\"REPOSITORY_OWNER_HEADING\",\"actor_id\":null,\"record_id\":17000803,\"originating_url\":\"https://github.com/topics/3d\",\"user_id\":null}}' data-hydro-click-hmac=\"22b23cef9044043c11b17037d9ae62d342ff83aec1fe01fb3deb33b088b8956c\" data-turbo=\"false\" data-view-component=\"true\" href=\"/YadiraF\">\n",
       "             YadiraF\n",
       " </a>          /\n",
       "           <a class=\"text-bold wb-break-word\" data-ga-click=\"Explore, go to repository, location:explore feed\" data-hydro-click='{\"event_type\":\"explore.click\",\"payload\":{\"click_context\":\"REPOSITORY_CARD\",\"click_target\":\"REPOSITORY\",\"click_visual_representation\":\"REPOSITORY_NAME_HEADING\",\"actor_id\":null,\"record_id\":126008734,\"originating_url\":\"https://github.com/topics/3d\",\"user_id\":null}}' data-hydro-click-hmac=\"4d633272ee3575f2e51f2a3ab9e56ebf7be354ec3dadc0d1bf246d2f2c811049\" data-turbo=\"false\" data-view-component=\"true\" href=\"/YadiraF/PRNet\">\n",
       "             PRNet\n",
       " </a> </h3>,\n",
       " <h3 class=\"f3 color-fg-muted text-normal lh-condensed\">\n",
       " <a data-ga-click=\"Explore, go to repository owner, location:explore feed\" data-hydro-click='{\"event_type\":\"explore.click\",\"payload\":{\"click_context\":\"REPOSITORY_CARD\",\"click_target\":\"OWNER\",\"click_visual_representation\":\"REPOSITORY_OWNER_HEADING\",\"actor_id\":null,\"record_id\":1342004,\"originating_url\":\"https://github.com/topics/3d\",\"user_id\":null}}' data-hydro-click-hmac=\"fefb66c769603a36c83f99d8fcb711851a0c516cf07be3a8a80997d82d0f4ef4\" data-turbo=\"false\" data-view-component=\"true\" href=\"/google\">\n",
       "             google\n",
       " </a>          /\n",
       "           <a class=\"text-bold wb-break-word\" data-ga-click=\"Explore, go to repository, location:explore feed\" data-hydro-click='{\"event_type\":\"explore.click\",\"payload\":{\"click_context\":\"REPOSITORY_CARD\",\"click_target\":\"REPOSITORY\",\"click_visual_representation\":\"REPOSITORY_NAME_HEADING\",\"actor_id\":null,\"record_id\":153651476,\"originating_url\":\"https://github.com/topics/3d\",\"user_id\":null}}' data-hydro-click-hmac=\"0e361312deb28484dffa632561cf40a92e83db0f1472a6f00d4d1f335c18ccbd\" data-turbo=\"false\" data-view-component=\"true\" href=\"/google/model-viewer\">\n",
       "             model-viewer\n",
       " </a> </h3>,\n",
       " <h3 class=\"f3 color-fg-muted text-normal lh-condensed\">\n",
       " <a data-ga-click=\"Explore, go to repository owner, location:explore feed\" data-hydro-click='{\"event_type\":\"explore.click\",\"payload\":{\"click_context\":\"REPOSITORY_CARD\",\"click_target\":\"OWNER\",\"click_visual_representation\":\"REPOSITORY_OWNER_HEADING\",\"actor_id\":null,\"record_id\":17222,\"originating_url\":\"https://github.com/topics/3d\",\"user_id\":null}}' data-hydro-click-hmac=\"cd51d852ecff8dcc5a65c6e465fd50fcf349127ea8d5d92933f528ad51971447\" data-turbo=\"false\" data-view-component=\"true\" href=\"/AaronJackson\">\n",
       "             AaronJackson\n",
       " </a>          /\n",
       "           <a class=\"text-bold wb-break-word\" data-ga-click=\"Explore, go to repository, location:explore feed\" data-hydro-click='{\"event_type\":\"explore.click\",\"payload\":{\"click_context\":\"REPOSITORY_CARD\",\"click_target\":\"REPOSITORY\",\"click_visual_representation\":\"REPOSITORY_NAME_HEADING\",\"actor_id\":null,\"record_id\":94889340,\"originating_url\":\"https://github.com/topics/3d\",\"user_id\":null}}' data-hydro-click-hmac=\"acadee55a58e7f2ffe89dd69355b608754dc3d19c6117b213d4d69d66166319a\" data-turbo=\"false\" data-view-component=\"true\" href=\"/AaronJackson/vrn\">\n",
       "             vrn\n",
       " </a> </h3>,\n",
       " <h3 class=\"f3 color-fg-muted text-normal lh-condensed\">\n",
       " <a data-ga-click=\"Explore, go to repository owner, location:explore feed\" data-hydro-click='{\"event_type\":\"explore.click\",\"payload\":{\"click_context\":\"REPOSITORY_CARD\",\"click_target\":\"OWNER\",\"click_visual_representation\":\"REPOSITORY_OWNER_HEADING\",\"actor_id\":null,\"record_id\":1029298,\"originating_url\":\"https://github.com/topics/3d\",\"user_id\":null}}' data-hydro-click-hmac=\"35cf14368807d0a0abce48667cf2c0778c4e44ceeb4edde9a860e17a9efe6443\" data-turbo=\"false\" data-view-component=\"true\" href=\"/ssloy\">\n",
       "             ssloy\n",
       " </a>          /\n",
       "           <a class=\"text-bold wb-break-word\" data-ga-click=\"Explore, go to repository, location:explore feed\" data-hydro-click='{\"event_type\":\"explore.click\",\"payload\":{\"click_context\":\"REPOSITORY_CARD\",\"click_target\":\"REPOSITORY\",\"click_visual_representation\":\"REPOSITORY_NAME_HEADING\",\"actor_id\":null,\"record_id\":166652275,\"originating_url\":\"https://github.com/topics/3d\",\"user_id\":null}}' data-hydro-click-hmac=\"bfa43571b17361feff557e534cb483b36d6ad67cae545fff34a7847151c7d761\" data-turbo=\"false\" data-view-component=\"true\" href=\"/ssloy/tinyraytracer\">\n",
       "             tinyraytracer\n",
       " </a> </h3>,\n",
       " <h3 class=\"f3 color-fg-muted text-normal lh-condensed\">\n",
       " <a data-ga-click=\"Explore, go to repository owner, location:explore feed\" data-hydro-click='{\"event_type\":\"explore.click\",\"payload\":{\"click_context\":\"REPOSITORY_CARD\",\"click_target\":\"OWNER\",\"click_visual_representation\":\"REPOSITORY_OWNER_HEADING\",\"actor_id\":null,\"record_id\":83981865,\"originating_url\":\"https://github.com/topics/3d\",\"user_id\":null}}' data-hydro-click-hmac=\"253650db0f2b6f83bde31f3af2cb1342ac44f41987dd296e94a08abb4a8b0298\" data-turbo=\"false\" data-view-component=\"true\" href=\"/FyroxEngine\">\n",
       "             FyroxEngine\n",
       " </a>          /\n",
       "           <a class=\"text-bold wb-break-word\" data-ga-click=\"Explore, go to repository, location:explore feed\" data-hydro-click='{\"event_type\":\"explore.click\",\"payload\":{\"click_context\":\"REPOSITORY_CARD\",\"click_target\":\"REPOSITORY\",\"click_visual_representation\":\"REPOSITORY_NAME_HEADING\",\"actor_id\":null,\"record_id\":178597005,\"originating_url\":\"https://github.com/topics/3d\",\"user_id\":null}}' data-hydro-click-hmac=\"be159b4cbb1fd8013a482b98f601fd932ffba3b6f0fe97d9f36a1dc468b54236\" data-turbo=\"false\" data-view-component=\"true\" href=\"/FyroxEngine/Fyrox\">\n",
       "             Fyrox\n",
       " </a> </h3>,\n",
       " <h3 class=\"f3 color-fg-muted text-normal lh-condensed\">\n",
       " <a data-ga-click=\"Explore, go to repository owner, location:explore feed\" data-hydro-click='{\"event_type\":\"explore.click\",\"payload\":{\"click_context\":\"REPOSITORY_CARD\",\"click_target\":\"OWNER\",\"click_visual_representation\":\"REPOSITORY_OWNER_HEADING\",\"actor_id\":null,\"record_id\":344828,\"originating_url\":\"https://github.com/topics/3d\",\"user_id\":null}}' data-hydro-click-hmac=\"87bc05ba152704b235df2f6bbe53be6ac44583fb91658a8c826a42d33313939f\" data-turbo=\"false\" data-view-component=\"true\" href=\"/mosra\">\n",
       "             mosra\n",
       " </a>          /\n",
       "           <a class=\"text-bold wb-break-word\" data-ga-click=\"Explore, go to repository, location:explore feed\" data-hydro-click='{\"event_type\":\"explore.click\",\"payload\":{\"click_context\":\"REPOSITORY_CARD\",\"click_target\":\"REPOSITORY\",\"click_visual_representation\":\"REPOSITORY_NAME_HEADING\",\"actor_id\":null,\"record_id\":1182756,\"originating_url\":\"https://github.com/topics/3d\",\"user_id\":null}}' data-hydro-click-hmac=\"9d963630e2bd1250640a667f76d75ddfca1363bc60d2d9d6f1907334bf4736ea\" data-turbo=\"false\" data-view-component=\"true\" href=\"/mosra/magnum\">\n",
       "             magnum\n",
       " </a> </h3>,\n",
       " <h3 class=\"f3 color-fg-muted text-normal lh-condensed\">\n",
       " <a data-ga-click=\"Explore, go to repository owner, location:explore feed\" data-hydro-click='{\"event_type\":\"explore.click\",\"payload\":{\"click_context\":\"REPOSITORY_CARD\",\"click_target\":\"OWNER\",\"click_visual_representation\":\"REPOSITORY_OWNER_HEADING\",\"actor_id\":null,\"record_id\":306044,\"originating_url\":\"https://github.com/topics/3d\",\"user_id\":null}}' data-hydro-click-hmac=\"4e7a07aaa8026fd3cf7b6af0cad7c86ec41c6b9a85eef5b00e165285355b1fda\" data-turbo=\"false\" data-view-component=\"true\" href=\"/tengbao\">\n",
       "             tengbao\n",
       " </a>          /\n",
       "           <a class=\"text-bold wb-break-word\" data-ga-click=\"Explore, go to repository, location:explore feed\" data-hydro-click='{\"event_type\":\"explore.click\",\"payload\":{\"click_context\":\"REPOSITORY_CARD\",\"click_target\":\"REPOSITORY\",\"click_visual_representation\":\"REPOSITORY_NAME_HEADING\",\"actor_id\":null,\"record_id\":97560949,\"originating_url\":\"https://github.com/topics/3d\",\"user_id\":null}}' data-hydro-click-hmac=\"518a4e811618024ecb84d70d8aa7433b588152228cbdb6751c558c79c50e7d56\" data-turbo=\"false\" data-view-component=\"true\" href=\"/tengbao/vanta\">\n",
       "             vanta\n",
       " </a> </h3>,\n",
       " <h3 class=\"f3 color-fg-muted text-normal lh-condensed\">\n",
       " <a data-ga-click=\"Explore, go to repository owner, location:explore feed\" data-hydro-click='{\"event_type\":\"explore.click\",\"payload\":{\"click_context\":\"REPOSITORY_CARD\",\"click_target\":\"OWNER\",\"click_visual_representation\":\"REPOSITORY_OWNER_HEADING\",\"actor_id\":null,\"record_id\":51905096,\"originating_url\":\"https://github.com/topics/3d\",\"user_id\":null}}' data-hydro-click-hmac=\"56978e86a4184c50f2521db5df36e0845a30ada392ad85724b510c835f099ced\" data-turbo=\"false\" data-view-component=\"true\" href=\"/gfxfundamentals\">\n",
       "             gfxfundamentals\n",
       " </a>          /\n",
       "           <a class=\"text-bold wb-break-word\" data-ga-click=\"Explore, go to repository, location:explore feed\" data-hydro-click='{\"event_type\":\"explore.click\",\"payload\":{\"click_context\":\"REPOSITORY_CARD\",\"click_target\":\"REPOSITORY\",\"click_visual_representation\":\"REPOSITORY_NAME_HEADING\",\"actor_id\":null,\"record_id\":3253898,\"originating_url\":\"https://github.com/topics/3d\",\"user_id\":null}}' data-hydro-click-hmac=\"096f5cbc072b7545745d7635e8ae80f95f78abc6d316ab1637871b592c32506e\" data-turbo=\"false\" data-view-component=\"true\" href=\"/gfxfundamentals/webgl-fundamentals\">\n",
       "             webgl-fundamentals\n",
       " </a> </h3>,\n",
       " <h3 class=\"f3 color-fg-muted text-normal lh-condensed\">\n",
       " <a data-ga-click=\"Explore, go to repository owner, location:explore feed\" data-hydro-click='{\"event_type\":\"explore.click\",\"payload\":{\"click_context\":\"REPOSITORY_CARD\",\"click_target\":\"OWNER\",\"click_visual_representation\":\"REPOSITORY_OWNER_HEADING\",\"actor_id\":null,\"record_id\":7555251,\"originating_url\":\"https://github.com/topics/3d\",\"user_id\":null}}' data-hydro-click-hmac=\"bd2820bc53dda7c4dd7a3fb7abf7a52d9b0839782dd6706a04878fc086b6dd45\" data-turbo=\"false\" data-view-component=\"true\" href=\"/cleardusk\">\n",
       "             cleardusk\n",
       " </a>          /\n",
       "           <a class=\"text-bold wb-break-word\" data-ga-click=\"Explore, go to repository, location:explore feed\" data-hydro-click='{\"event_type\":\"explore.click\",\"payload\":{\"click_context\":\"REPOSITORY_CARD\",\"click_target\":\"REPOSITORY\",\"click_visual_representation\":\"REPOSITORY_NAME_HEADING\",\"actor_id\":null,\"record_id\":139158036,\"originating_url\":\"https://github.com/topics/3d\",\"user_id\":null}}' data-hydro-click-hmac=\"04c3ad0aade50592b5e0f519cdd9e150014dd98fe6c34a3bfd48bb380c600bf8\" data-turbo=\"false\" data-view-component=\"true\" href=\"/cleardusk/3DDFA\">\n",
       "             3DDFA\n",
       " </a> </h3>,\n",
       " <h3 class=\"f3 color-fg-muted text-normal lh-condensed\">\n",
       " <a data-ga-click=\"Explore, go to repository owner, location:explore feed\" data-hydro-click='{\"event_type\":\"explore.click\",\"payload\":{\"click_context\":\"REPOSITORY_CARD\",\"click_target\":\"OWNER\",\"click_visual_representation\":\"REPOSITORY_OWNER_HEADING\",\"actor_id\":null,\"record_id\":6104,\"originating_url\":\"https://github.com/topics/3d\",\"user_id\":null}}' data-hydro-click-hmac=\"ed4aecd645286f3bd578888252b7aa8e477e50d90863291286a2f15806e64d21\" data-turbo=\"false\" data-view-component=\"true\" href=\"/jasonlong\">\n",
       "             jasonlong\n",
       " </a>          /\n",
       "           <a class=\"text-bold wb-break-word\" data-ga-click=\"Explore, go to repository, location:explore feed\" data-hydro-click='{\"event_type\":\"explore.click\",\"payload\":{\"click_context\":\"REPOSITORY_CARD\",\"click_target\":\"REPOSITORY\",\"click_visual_representation\":\"REPOSITORY_NAME_HEADING\",\"actor_id\":null,\"record_id\":18154829,\"originating_url\":\"https://github.com/topics/3d\",\"user_id\":null}}' data-hydro-click-hmac=\"1f5152270cdf8299eaafbfd2ec91f11ae7ae9c93f66b25a93ea90a123e360c2a\" data-turbo=\"false\" data-view-component=\"true\" href=\"/jasonlong/isometric-contributions\">\n",
       "             isometric-contributions\n",
       " </a> </h3>,\n",
       " <h3 class=\"f3 color-fg-muted text-normal lh-condensed\">\n",
       " <a data-ga-click=\"Explore, go to repository owner, location:explore feed\" data-hydro-click='{\"event_type\":\"explore.click\",\"payload\":{\"click_context\":\"REPOSITORY_CARD\",\"click_target\":\"OWNER\",\"click_visual_representation\":\"REPOSITORY_OWNER_HEADING\",\"actor_id\":null,\"record_id\":13378289,\"originating_url\":\"https://github.com/topics/3d\",\"user_id\":null}}' data-hydro-click-hmac=\"b03e13b74ba89ce591e15a147026f2949f99b9aa3aa224410f2e8c102238a36e\" data-turbo=\"false\" data-view-component=\"true\" href=\"/cnr-isti-vclab\">\n",
       "             cnr-isti-vclab\n",
       " </a>          /\n",
       "           <a class=\"text-bold wb-break-word\" data-ga-click=\"Explore, go to repository, location:explore feed\" data-hydro-click='{\"event_type\":\"explore.click\",\"payload\":{\"click_context\":\"REPOSITORY_CARD\",\"click_target\":\"REPOSITORY\",\"click_visual_representation\":\"REPOSITORY_NAME_HEADING\",\"actor_id\":null,\"record_id\":73027304,\"originating_url\":\"https://github.com/topics/3d\",\"user_id\":null}}' data-hydro-click-hmac=\"320bb87cd817c0d9e2c5e7348ea510c86f4f598db413ac2e151404ee7b47cd90\" data-turbo=\"false\" data-view-component=\"true\" href=\"/cnr-isti-vclab/meshlab\">\n",
       "             meshlab\n",
       " </a> </h3>]"
      ]
     },
     "execution_count": 41,
     "metadata": {},
     "output_type": "execute_result"
    }
   ],
   "source": [
    "repo_tags"
   ]
  },
  {
   "cell_type": "code",
   "execution_count": 42,
   "metadata": {
    "id": "RSxJ07u4g2m6"
   },
   "outputs": [
    {
     "data": {
      "text/plain": [
       "30"
      ]
     },
     "execution_count": 42,
     "metadata": {},
     "output_type": "execute_result"
    }
   ],
   "source": [
    "len(repo_tags)"
   ]
  },
  {
   "cell_type": "code",
   "execution_count": 43,
   "metadata": {
    "id": "0EVE8axRg2m7"
   },
   "outputs": [
    {
     "data": {
      "text/plain": [
       "<h3 class=\"f3 color-fg-muted text-normal lh-condensed\">\n",
       "<a data-ga-click=\"Explore, go to repository owner, location:explore feed\" data-hydro-click='{\"event_type\":\"explore.click\",\"payload\":{\"click_context\":\"REPOSITORY_CARD\",\"click_target\":\"OWNER\",\"click_visual_representation\":\"REPOSITORY_OWNER_HEADING\",\"actor_id\":null,\"record_id\":97088,\"originating_url\":\"https://github.com/topics/3d\",\"user_id\":null}}' data-hydro-click-hmac=\"4bdbc49d3c05ae7f70b531fbce709a384200b0768554e0172950286a8db30940\" data-turbo=\"false\" data-view-component=\"true\" href=\"/mrdoob\">\n",
       "            mrdoob\n",
       "</a>          /\n",
       "          <a class=\"text-bold wb-break-word\" data-ga-click=\"Explore, go to repository, location:explore feed\" data-hydro-click='{\"event_type\":\"explore.click\",\"payload\":{\"click_context\":\"REPOSITORY_CARD\",\"click_target\":\"REPOSITORY\",\"click_visual_representation\":\"REPOSITORY_NAME_HEADING\",\"actor_id\":null,\"record_id\":576201,\"originating_url\":\"https://github.com/topics/3d\",\"user_id\":null}}' data-hydro-click-hmac=\"517d3d5cb9d89752156923904a4238816bc9b51ab7772f3e3644ce897d8dd4e5\" data-turbo=\"false\" data-view-component=\"true\" href=\"/mrdoob/three.js\">\n",
       "            three.js\n",
       "</a> </h3>"
      ]
     },
     "execution_count": 43,
     "metadata": {},
     "output_type": "execute_result"
    }
   ],
   "source": [
    "repo_tags[0]"
   ]
  },
  {
   "cell_type": "code",
   "execution_count": 65,
   "metadata": {
    "id": "rh0J6xRWg2m8"
   },
   "outputs": [],
   "source": [
    "# finding all 'a' tags in the first repo tag\n",
    "a_tags = repo_tags[0].find_all('a')"
   ]
  },
  {
   "cell_type": "code",
   "execution_count": 66,
   "metadata": {
    "id": "YahOX3Q0g2m8"
   },
   "outputs": [
    {
     "data": {
      "text/plain": [
       "'mrdoob'"
      ]
     },
     "execution_count": 66,
     "metadata": {},
     "output_type": "execute_result"
    }
   ],
   "source": [
    "# parsing username of the first repository from the 3D page using the 'a' tag\n",
    "a_tags[0].text.strip()"
   ]
  },
  {
   "cell_type": "code",
   "execution_count": 67,
   "metadata": {
    "id": "U2Mt2dU-g2m9"
   },
   "outputs": [
    {
     "data": {
      "text/plain": [
       "'three.js'"
      ]
     },
     "execution_count": 67,
     "metadata": {},
     "output_type": "execute_result"
    }
   ],
   "source": [
    "# parsing the repo name of the first repo using the 'a' tag\n",
    "a_tags[1].text.strip()"
   ]
  },
  {
   "cell_type": "code",
   "execution_count": 68,
   "metadata": {
    "id": "aMLUxtdPg2m-"
   },
   "outputs": [],
   "source": [
    "base_url = 'https://github.com'\n",
    "repo_url = base_url + a_tags[1]['href']"
   ]
  },
  {
   "cell_type": "code",
   "execution_count": 69,
   "metadata": {
    "id": "wk8wTowqg2m_"
   },
   "outputs": [
    {
     "name": "stdout",
     "output_type": "stream",
     "text": [
      "https://github.com/mrdoob/three.js\n"
     ]
    }
   ],
   "source": [
    "# printing the URL of the first repo from the 3D topic webpage\n",
    "print(repo_url)"
   ]
  },
  {
   "cell_type": "code",
   "execution_count": 70,
   "metadata": {
    "id": "Rb5TL5xHg2nA"
   },
   "outputs": [],
   "source": [
    "# getting the no of stars from the repsoitory\n",
    "star_tags = doc.find_all('span', {'class': 'Counter js-social-count'})"
   ]
  },
  {
   "cell_type": "code",
   "execution_count": 71,
   "metadata": {
    "id": "DiMox-adg2nB"
   },
   "outputs": [
    {
     "data": {
      "text/plain": [
       "30"
      ]
     },
     "execution_count": 71,
     "metadata": {},
     "output_type": "execute_result"
    }
   ],
   "source": [
    "len(star_tags)"
   ]
  },
  {
   "cell_type": "code",
   "execution_count": 72,
   "metadata": {
    "id": "CRiFjD0qg2nC"
   },
   "outputs": [
    {
     "data": {
      "text/plain": [
       "'83.1k'"
      ]
     },
     "execution_count": 72,
     "metadata": {},
     "output_type": "execute_result"
    }
   ],
   "source": [
    "star_tags[0].text.strip()"
   ]
  },
  {
   "cell_type": "code",
   "execution_count": 52,
   "metadata": {
    "code_folding": [],
    "id": "hpruI2NAg2nD"
   },
   "outputs": [],
   "source": [
    "# function to convert stars string to integer\n",
    "def parse_star_count(stars_str):\n",
    "    stars_str = stars_str.strip()\n",
    "    if stars_str[-1] == 'k':\n",
    "        return int(float(stars_str[:-1]) * 1000)\n",
    "    return int(stars_str)"
   ]
  },
  {
   "cell_type": "code",
   "execution_count": 53,
   "metadata": {
    "id": "1mJ5qx0mg2nE"
   },
   "outputs": [
    {
     "data": {
      "text/plain": [
       "83100"
      ]
     },
     "execution_count": 53,
     "metadata": {},
     "output_type": "execute_result"
    }
   ],
   "source": [
    "parse_star_count(star_tags[0].text.strip())"
   ]
  },
  {
   "cell_type": "code",
   "execution_count": 54,
   "metadata": {
    "id": "wLvIOWIhg2nG"
   },
   "outputs": [],
   "source": [
    "# function to return info about a specific repository\n",
    "def get_repo_info(h3_tag, star_tag):\n",
    "    # returns all the required info about a repository\n",
    "    a_tags = h3_tag.find_all('a')\n",
    "    username = a_tags[0].text.strip()\n",
    "    repo_name = a_tags[1].text.strip()\n",
    "    repo_url = base_url + a_tags[1]['href']\n",
    "    stars = parse_star_count(star_tag.text.strip())\n",
    "    return username, repo_name, repo_url, stars"
   ]
  },
  {
   "cell_type": "code",
   "execution_count": 55,
   "metadata": {
    "id": "KQPBsMcSg2nH"
   },
   "outputs": [
    {
     "data": {
      "text/plain": [
       "('mrdoob', 'three.js', 'https://github.com/mrdoob/three.js', 83100)"
      ]
     },
     "execution_count": 55,
     "metadata": {},
     "output_type": "execute_result"
    }
   ],
   "source": [
    "get_repo_info(repo_tags[0], star_tags[0])"
   ]
  },
  {
   "cell_type": "code",
   "execution_count": 56,
   "metadata": {
    "id": "WdGRZq_ng2nI"
   },
   "outputs": [],
   "source": [
    "# function to find repo info about all the repos (top 30 in this case)\n",
    "topic_repos_dict = {\n",
    "    'username': [],\n",
    "    'repo_name': [],\n",
    "    'repo_url': [],\n",
    "    'stars': []\n",
    "}\n",
    "for i in range(len(repo_tags)):\n",
    "    repo_info = get_repo_info(repo_tags[i], star_tags[i])\n",
    "    topic_repos_dict['username'].append(repo_info[0])\n",
    "    topic_repos_dict['repo_name'].append(repo_info[1])\n",
    "    topic_repos_dict['stars'].append(repo_info[2])\n",
    "    topic_repos_dict['repo_url'].append(repo_info[3])\n",
    "    "
   ]
  },
  {
   "cell_type": "code",
   "execution_count": 57,
   "metadata": {
    "id": "7NqDTxgXg2nJ"
   },
   "outputs": [],
   "source": [
    "import os\n",
    "# function to return topic page\n",
    "def get_topic_page(topic_url):\n",
    "    # Download the page\n",
    "    response = requests.get(topic_url)\n",
    "    # Check successful response\n",
    "    if response.status_code != 200:\n",
    "        raise Exception('Failed to load page{}'.format(topic_url))\n",
    "    # Parse using Beautiful Soup \n",
    "    topic_doc = BeautifulSoup(response.text, 'html.parser')\n",
    "    return topic_doc\n",
    "\n",
    "# function to return info about a specific repository\n",
    "def get_repo_info(h3_tag, star_tag):\n",
    "    # returns all the required info about a repository\n",
    "    a_tags = h3_tag.find_all('a')\n",
    "    username = a_tags[0].text.strip()\n",
    "    repo_name = a_tags[1].text.strip()\n",
    "    repo_url = base_url + a_tags[1]['href']\n",
    "    stars = parse_star_count(star_tag.text.strip())\n",
    "    return username, repo_name, stars, repo_url\n",
    "\n",
    "def get_topic_repos(topic_doc):\n",
    "    # Get the h3 tag containing repo title, repo URL and username\n",
    "    h3_selection_class = 'f3 color-fg-muted text-normal lh-condensed' \n",
    "    repo_tags = topic_doc.find_all('h3', {'class': h3_selection_class})\n",
    "    # Get star tags\n",
    "    star_tags = topic_doc.find_all('span', {'class': 'Counter js-social-count'})\n",
    "    \n",
    "    topic_repos_dict = {\n",
    "        'username': [],\n",
    "        'repo_name': [],\n",
    "        'repo_url': [],\n",
    "        'stars': []\n",
    "    }\n",
    "    \n",
    "    # Get repo info\n",
    "    for i in range(len(repo_tags)):\n",
    "        repo_info = get_repo_info(repo_tags[i], star_tags[i])\n",
    "        topic_repos_dict['username'].append(repo_info[0])\n",
    "        topic_repos_dict['repo_name'].append(repo_info[1])\n",
    "        topic_repos_dict['repo_url'].append(repo_info[2])\n",
    "        topic_repos_dict['stars'].append(repo_info[3])\n",
    "    \n",
    "    return pd.DataFrame(topic_repos_dict)"
   ]
  },
  {
   "cell_type": "code",
   "execution_count": 58,
   "metadata": {
    "id": "3KcnVZCtg2nf"
   },
   "outputs": [],
   "source": [
    "# checking if the function is working\n",
    "url4 = topic_urls[4]"
   ]
  },
  {
   "cell_type": "code",
   "execution_count": 59,
   "metadata": {
    "id": "N96vxl-Sg2ng"
   },
   "outputs": [
    {
     "data": {
      "text/plain": [
       "'https://github.com/topics/android'"
      ]
     },
     "execution_count": 59,
     "metadata": {},
     "output_type": "execute_result"
    }
   ],
   "source": [
    "url4"
   ]
  },
  {
   "cell_type": "code",
   "execution_count": 60,
   "metadata": {
    "id": "iltSbPoVg2ni"
   },
   "outputs": [],
   "source": [
    "topic4_doc = get_topic_page(url4)"
   ]
  },
  {
   "cell_type": "code",
   "execution_count": 61,
   "metadata": {
    "id": "tAv47WBTg2ni",
    "scrolled": true
   },
   "outputs": [],
   "source": [
    "topic4_repos = get_topic_repos(topic4_doc)"
   ]
  },
  {
   "cell_type": "code",
   "execution_count": 62,
   "metadata": {
    "id": "EyLFK1Xqg2nj",
    "scrolled": true
   },
   "outputs": [
    {
     "data": {
      "text/html": [
       "<div>\n",
       "<style scoped>\n",
       "    .dataframe tbody tr th:only-of-type {\n",
       "        vertical-align: middle;\n",
       "    }\n",
       "\n",
       "    .dataframe tbody tr th {\n",
       "        vertical-align: top;\n",
       "    }\n",
       "\n",
       "    .dataframe thead th {\n",
       "        text-align: right;\n",
       "    }\n",
       "</style>\n",
       "<table border=\"1\" class=\"dataframe\">\n",
       "  <thead>\n",
       "    <tr style=\"text-align: right;\">\n",
       "      <th></th>\n",
       "      <th>username</th>\n",
       "      <th>repo_name</th>\n",
       "      <th>repo_url</th>\n",
       "      <th>stars</th>\n",
       "    </tr>\n",
       "  </thead>\n",
       "  <tbody>\n",
       "    <tr>\n",
       "      <th>0</th>\n",
       "      <td>flutter</td>\n",
       "      <td>flutter</td>\n",
       "      <td>142000</td>\n",
       "      <td>https://github.com/flutter/flutter</td>\n",
       "    </tr>\n",
       "    <tr>\n",
       "      <th>1</th>\n",
       "      <td>justjavac</td>\n",
       "      <td>free-programming-books-zh_CN</td>\n",
       "      <td>93800</td>\n",
       "      <td>https://github.com/justjavac/free-programming-...</td>\n",
       "    </tr>\n",
       "    <tr>\n",
       "      <th>2</th>\n",
       "      <td>Genymobile</td>\n",
       "      <td>scrcpy</td>\n",
       "      <td>66900</td>\n",
       "      <td>https://github.com/Genymobile/scrcpy</td>\n",
       "    </tr>\n",
       "    <tr>\n",
       "      <th>3</th>\n",
       "      <td>Hack-with-Github</td>\n",
       "      <td>Awesome-Hacking</td>\n",
       "      <td>52000</td>\n",
       "      <td>https://github.com/Hack-with-Github/Awesome-Ha...</td>\n",
       "    </tr>\n",
       "    <tr>\n",
       "      <th>4</th>\n",
       "      <td>google</td>\n",
       "      <td>material-design-icons</td>\n",
       "      <td>46000</td>\n",
       "      <td>https://github.com/google/material-design-icons</td>\n",
       "    </tr>\n",
       "    <tr>\n",
       "      <th>5</th>\n",
       "      <td>wasabeef</td>\n",
       "      <td>awesome-android-ui</td>\n",
       "      <td>42900</td>\n",
       "      <td>https://github.com/wasabeef/awesome-android-ui</td>\n",
       "    </tr>\n",
       "    <tr>\n",
       "      <th>6</th>\n",
       "      <td>square</td>\n",
       "      <td>okhttp</td>\n",
       "      <td>42400</td>\n",
       "      <td>https://github.com/square/okhttp</td>\n",
       "    </tr>\n",
       "    <tr>\n",
       "      <th>7</th>\n",
       "      <td>Solido</td>\n",
       "      <td>awesome-flutter</td>\n",
       "      <td>41200</td>\n",
       "      <td>https://github.com/Solido/awesome-flutter</td>\n",
       "    </tr>\n",
       "    <tr>\n",
       "      <th>8</th>\n",
       "      <td>android</td>\n",
       "      <td>architecture-samples</td>\n",
       "      <td>41000</td>\n",
       "      <td>https://github.com/android/architecture-samples</td>\n",
       "    </tr>\n",
       "    <tr>\n",
       "      <th>9</th>\n",
       "      <td>square</td>\n",
       "      <td>retrofit</td>\n",
       "      <td>40100</td>\n",
       "      <td>https://github.com/square/retrofit</td>\n",
       "    </tr>\n",
       "    <tr>\n",
       "      <th>10</th>\n",
       "      <td>fastlane</td>\n",
       "      <td>fastlane</td>\n",
       "      <td>35500</td>\n",
       "      <td>https://github.com/fastlane/fastlane</td>\n",
       "    </tr>\n",
       "    <tr>\n",
       "      <th>11</th>\n",
       "      <td>PhilJay</td>\n",
       "      <td>MPAndroidChart</td>\n",
       "      <td>35300</td>\n",
       "      <td>https://github.com/PhilJay/MPAndroidChart</td>\n",
       "    </tr>\n",
       "    <tr>\n",
       "      <th>12</th>\n",
       "      <td>airbnb</td>\n",
       "      <td>lottie-android</td>\n",
       "      <td>32900</td>\n",
       "      <td>https://github.com/airbnb/lottie-android</td>\n",
       "    </tr>\n",
       "    <tr>\n",
       "      <th>13</th>\n",
       "      <td>bumptech</td>\n",
       "      <td>glide</td>\n",
       "      <td>32700</td>\n",
       "      <td>https://github.com/bumptech/glide</td>\n",
       "    </tr>\n",
       "    <tr>\n",
       "      <th>14</th>\n",
       "      <td>shadowsocks</td>\n",
       "      <td>shadowsocks-android</td>\n",
       "      <td>32600</td>\n",
       "      <td>https://github.com/shadowsocks/shadowsocks-and...</td>\n",
       "    </tr>\n",
       "    <tr>\n",
       "      <th>15</th>\n",
       "      <td>Blankj</td>\n",
       "      <td>AndroidUtilCode</td>\n",
       "      <td>31000</td>\n",
       "      <td>https://github.com/Blankj/AndroidUtilCode</td>\n",
       "    </tr>\n",
       "    <tr>\n",
       "      <th>16</th>\n",
       "      <td>Trinea</td>\n",
       "      <td>android-open-project</td>\n",
       "      <td>31000</td>\n",
       "      <td>https://github.com/Trinea/android-open-project</td>\n",
       "    </tr>\n",
       "    <tr>\n",
       "      <th>17</th>\n",
       "      <td>xitu</td>\n",
       "      <td>gold-miner</td>\n",
       "      <td>30900</td>\n",
       "      <td>https://github.com/xitu/gold-miner</td>\n",
       "    </tr>\n",
       "    <tr>\n",
       "      <th>18</th>\n",
       "      <td>skylot</td>\n",
       "      <td>jadx</td>\n",
       "      <td>30700</td>\n",
       "      <td>https://github.com/skylot/jadx</td>\n",
       "    </tr>\n",
       "    <tr>\n",
       "      <th>19</th>\n",
       "      <td>bilibili</td>\n",
       "      <td>ijkplayer</td>\n",
       "      <td>30500</td>\n",
       "      <td>https://github.com/bilibili/ijkplayer</td>\n",
       "    </tr>\n",
       "    <tr>\n",
       "      <th>20</th>\n",
       "      <td>laurent22</td>\n",
       "      <td>joplin</td>\n",
       "      <td>30300</td>\n",
       "      <td>https://github.com/laurent22/joplin</td>\n",
       "    </tr>\n",
       "    <tr>\n",
       "      <th>21</th>\n",
       "      <td>zxing</td>\n",
       "      <td>zxing</td>\n",
       "      <td>29700</td>\n",
       "      <td>https://github.com/zxing/zxing</td>\n",
       "    </tr>\n",
       "    <tr>\n",
       "      <th>22</th>\n",
       "      <td>codepath</td>\n",
       "      <td>android_guides</td>\n",
       "      <td>27800</td>\n",
       "      <td>https://github.com/codepath/android_guides</td>\n",
       "    </tr>\n",
       "    <tr>\n",
       "      <th>23</th>\n",
       "      <td>square</td>\n",
       "      <td>leakcanary</td>\n",
       "      <td>27600</td>\n",
       "      <td>https://github.com/square/leakcanary</td>\n",
       "    </tr>\n",
       "    <tr>\n",
       "      <th>24</th>\n",
       "      <td>alibaba</td>\n",
       "      <td>fastjson</td>\n",
       "      <td>24700</td>\n",
       "      <td>https://github.com/alibaba/fastjson</td>\n",
       "    </tr>\n",
       "    <tr>\n",
       "      <th>25</th>\n",
       "      <td>scwang90</td>\n",
       "      <td>SmartRefreshLayout</td>\n",
       "      <td>23600</td>\n",
       "      <td>https://github.com/scwang90/SmartRefreshLayout</td>\n",
       "    </tr>\n",
       "    <tr>\n",
       "      <th>26</th>\n",
       "      <td>appwrite</td>\n",
       "      <td>appwrite</td>\n",
       "      <td>23100</td>\n",
       "      <td>https://github.com/appwrite/appwrite</td>\n",
       "    </tr>\n",
       "    <tr>\n",
       "      <th>27</th>\n",
       "      <td>CymChad</td>\n",
       "      <td>BaseRecyclerViewAdapterHelper</td>\n",
       "      <td>22900</td>\n",
       "      <td>https://github.com/CymChad/BaseRecyclerViewAda...</td>\n",
       "    </tr>\n",
       "    <tr>\n",
       "      <th>28</th>\n",
       "      <td>react-native-elements</td>\n",
       "      <td>react-native-elements</td>\n",
       "      <td>22500</td>\n",
       "      <td>https://github.com/react-native-elements/react...</td>\n",
       "    </tr>\n",
       "    <tr>\n",
       "      <th>29</th>\n",
       "      <td>quasarframework</td>\n",
       "      <td>quasar</td>\n",
       "      <td>21500</td>\n",
       "      <td>https://github.com/quasarframework/quasar</td>\n",
       "    </tr>\n",
       "  </tbody>\n",
       "</table>\n",
       "</div>"
      ],
      "text/plain": [
       "                 username                      repo_name  repo_url  \\\n",
       "0                 flutter                        flutter    142000   \n",
       "1               justjavac   free-programming-books-zh_CN     93800   \n",
       "2              Genymobile                         scrcpy     66900   \n",
       "3        Hack-with-Github                Awesome-Hacking     52000   \n",
       "4                  google          material-design-icons     46000   \n",
       "5                wasabeef             awesome-android-ui     42900   \n",
       "6                  square                         okhttp     42400   \n",
       "7                  Solido                awesome-flutter     41200   \n",
       "8                 android           architecture-samples     41000   \n",
       "9                  square                       retrofit     40100   \n",
       "10               fastlane                       fastlane     35500   \n",
       "11                PhilJay                 MPAndroidChart     35300   \n",
       "12                 airbnb                 lottie-android     32900   \n",
       "13               bumptech                          glide     32700   \n",
       "14            shadowsocks            shadowsocks-android     32600   \n",
       "15                 Blankj                AndroidUtilCode     31000   \n",
       "16                 Trinea           android-open-project     31000   \n",
       "17                   xitu                     gold-miner     30900   \n",
       "18                 skylot                           jadx     30700   \n",
       "19               bilibili                      ijkplayer     30500   \n",
       "20              laurent22                         joplin     30300   \n",
       "21                  zxing                          zxing     29700   \n",
       "22               codepath                 android_guides     27800   \n",
       "23                 square                     leakcanary     27600   \n",
       "24                alibaba                       fastjson     24700   \n",
       "25               scwang90             SmartRefreshLayout     23600   \n",
       "26               appwrite                       appwrite     23100   \n",
       "27                CymChad  BaseRecyclerViewAdapterHelper     22900   \n",
       "28  react-native-elements          react-native-elements     22500   \n",
       "29        quasarframework                         quasar     21500   \n",
       "\n",
       "                                                stars  \n",
       "0                  https://github.com/flutter/flutter  \n",
       "1   https://github.com/justjavac/free-programming-...  \n",
       "2                https://github.com/Genymobile/scrcpy  \n",
       "3   https://github.com/Hack-with-Github/Awesome-Ha...  \n",
       "4     https://github.com/google/material-design-icons  \n",
       "5      https://github.com/wasabeef/awesome-android-ui  \n",
       "6                    https://github.com/square/okhttp  \n",
       "7           https://github.com/Solido/awesome-flutter  \n",
       "8     https://github.com/android/architecture-samples  \n",
       "9                  https://github.com/square/retrofit  \n",
       "10               https://github.com/fastlane/fastlane  \n",
       "11          https://github.com/PhilJay/MPAndroidChart  \n",
       "12           https://github.com/airbnb/lottie-android  \n",
       "13                  https://github.com/bumptech/glide  \n",
       "14  https://github.com/shadowsocks/shadowsocks-and...  \n",
       "15          https://github.com/Blankj/AndroidUtilCode  \n",
       "16     https://github.com/Trinea/android-open-project  \n",
       "17                 https://github.com/xitu/gold-miner  \n",
       "18                     https://github.com/skylot/jadx  \n",
       "19              https://github.com/bilibili/ijkplayer  \n",
       "20                https://github.com/laurent22/joplin  \n",
       "21                     https://github.com/zxing/zxing  \n",
       "22         https://github.com/codepath/android_guides  \n",
       "23               https://github.com/square/leakcanary  \n",
       "24                https://github.com/alibaba/fastjson  \n",
       "25     https://github.com/scwang90/SmartRefreshLayout  \n",
       "26               https://github.com/appwrite/appwrite  \n",
       "27  https://github.com/CymChad/BaseRecyclerViewAda...  \n",
       "28  https://github.com/react-native-elements/react...  \n",
       "29          https://github.com/quasarframework/quasar  "
      ]
     },
     "execution_count": 62,
     "metadata": {},
     "output_type": "execute_result"
    }
   ],
   "source": [
    "topic4_repos "
   ]
  },
  {
   "cell_type": "code",
   "execution_count": 63,
   "metadata": {
    "id": "L69ItryMg2nk"
   },
   "outputs": [
    {
     "data": {
      "text/html": [
       "<div>\n",
       "<style scoped>\n",
       "    .dataframe tbody tr th:only-of-type {\n",
       "        vertical-align: middle;\n",
       "    }\n",
       "\n",
       "    .dataframe tbody tr th {\n",
       "        vertical-align: top;\n",
       "    }\n",
       "\n",
       "    .dataframe thead th {\n",
       "        text-align: right;\n",
       "    }\n",
       "</style>\n",
       "<table border=\"1\" class=\"dataframe\">\n",
       "  <thead>\n",
       "    <tr style=\"text-align: right;\">\n",
       "      <th></th>\n",
       "      <th>username</th>\n",
       "      <th>repo_name</th>\n",
       "      <th>repo_url</th>\n",
       "      <th>stars</th>\n",
       "    </tr>\n",
       "  </thead>\n",
       "  <tbody>\n",
       "    <tr>\n",
       "      <th>0</th>\n",
       "      <td>flutter</td>\n",
       "      <td>flutter</td>\n",
       "      <td>142000</td>\n",
       "      <td>https://github.com/flutter/flutter</td>\n",
       "    </tr>\n",
       "    <tr>\n",
       "      <th>1</th>\n",
       "      <td>justjavac</td>\n",
       "      <td>free-programming-books-zh_CN</td>\n",
       "      <td>93800</td>\n",
       "      <td>https://github.com/justjavac/free-programming-...</td>\n",
       "    </tr>\n",
       "    <tr>\n",
       "      <th>2</th>\n",
       "      <td>Genymobile</td>\n",
       "      <td>scrcpy</td>\n",
       "      <td>66900</td>\n",
       "      <td>https://github.com/Genymobile/scrcpy</td>\n",
       "    </tr>\n",
       "    <tr>\n",
       "      <th>3</th>\n",
       "      <td>Hack-with-Github</td>\n",
       "      <td>Awesome-Hacking</td>\n",
       "      <td>52000</td>\n",
       "      <td>https://github.com/Hack-with-Github/Awesome-Ha...</td>\n",
       "    </tr>\n",
       "    <tr>\n",
       "      <th>4</th>\n",
       "      <td>google</td>\n",
       "      <td>material-design-icons</td>\n",
       "      <td>46000</td>\n",
       "      <td>https://github.com/google/material-design-icons</td>\n",
       "    </tr>\n",
       "    <tr>\n",
       "      <th>5</th>\n",
       "      <td>wasabeef</td>\n",
       "      <td>awesome-android-ui</td>\n",
       "      <td>42900</td>\n",
       "      <td>https://github.com/wasabeef/awesome-android-ui</td>\n",
       "    </tr>\n",
       "    <tr>\n",
       "      <th>6</th>\n",
       "      <td>square</td>\n",
       "      <td>okhttp</td>\n",
       "      <td>42400</td>\n",
       "      <td>https://github.com/square/okhttp</td>\n",
       "    </tr>\n",
       "    <tr>\n",
       "      <th>7</th>\n",
       "      <td>Solido</td>\n",
       "      <td>awesome-flutter</td>\n",
       "      <td>41200</td>\n",
       "      <td>https://github.com/Solido/awesome-flutter</td>\n",
       "    </tr>\n",
       "    <tr>\n",
       "      <th>8</th>\n",
       "      <td>android</td>\n",
       "      <td>architecture-samples</td>\n",
       "      <td>41000</td>\n",
       "      <td>https://github.com/android/architecture-samples</td>\n",
       "    </tr>\n",
       "    <tr>\n",
       "      <th>9</th>\n",
       "      <td>square</td>\n",
       "      <td>retrofit</td>\n",
       "      <td>40100</td>\n",
       "      <td>https://github.com/square/retrofit</td>\n",
       "    </tr>\n",
       "    <tr>\n",
       "      <th>10</th>\n",
       "      <td>fastlane</td>\n",
       "      <td>fastlane</td>\n",
       "      <td>35500</td>\n",
       "      <td>https://github.com/fastlane/fastlane</td>\n",
       "    </tr>\n",
       "    <tr>\n",
       "      <th>11</th>\n",
       "      <td>PhilJay</td>\n",
       "      <td>MPAndroidChart</td>\n",
       "      <td>35300</td>\n",
       "      <td>https://github.com/PhilJay/MPAndroidChart</td>\n",
       "    </tr>\n",
       "    <tr>\n",
       "      <th>12</th>\n",
       "      <td>airbnb</td>\n",
       "      <td>lottie-android</td>\n",
       "      <td>32900</td>\n",
       "      <td>https://github.com/airbnb/lottie-android</td>\n",
       "    </tr>\n",
       "    <tr>\n",
       "      <th>13</th>\n",
       "      <td>bumptech</td>\n",
       "      <td>glide</td>\n",
       "      <td>32700</td>\n",
       "      <td>https://github.com/bumptech/glide</td>\n",
       "    </tr>\n",
       "    <tr>\n",
       "      <th>14</th>\n",
       "      <td>shadowsocks</td>\n",
       "      <td>shadowsocks-android</td>\n",
       "      <td>32600</td>\n",
       "      <td>https://github.com/shadowsocks/shadowsocks-and...</td>\n",
       "    </tr>\n",
       "    <tr>\n",
       "      <th>15</th>\n",
       "      <td>Blankj</td>\n",
       "      <td>AndroidUtilCode</td>\n",
       "      <td>31000</td>\n",
       "      <td>https://github.com/Blankj/AndroidUtilCode</td>\n",
       "    </tr>\n",
       "    <tr>\n",
       "      <th>16</th>\n",
       "      <td>Trinea</td>\n",
       "      <td>android-open-project</td>\n",
       "      <td>31000</td>\n",
       "      <td>https://github.com/Trinea/android-open-project</td>\n",
       "    </tr>\n",
       "    <tr>\n",
       "      <th>17</th>\n",
       "      <td>xitu</td>\n",
       "      <td>gold-miner</td>\n",
       "      <td>30900</td>\n",
       "      <td>https://github.com/xitu/gold-miner</td>\n",
       "    </tr>\n",
       "    <tr>\n",
       "      <th>18</th>\n",
       "      <td>skylot</td>\n",
       "      <td>jadx</td>\n",
       "      <td>30700</td>\n",
       "      <td>https://github.com/skylot/jadx</td>\n",
       "    </tr>\n",
       "    <tr>\n",
       "      <th>19</th>\n",
       "      <td>bilibili</td>\n",
       "      <td>ijkplayer</td>\n",
       "      <td>30500</td>\n",
       "      <td>https://github.com/bilibili/ijkplayer</td>\n",
       "    </tr>\n",
       "    <tr>\n",
       "      <th>20</th>\n",
       "      <td>laurent22</td>\n",
       "      <td>joplin</td>\n",
       "      <td>30300</td>\n",
       "      <td>https://github.com/laurent22/joplin</td>\n",
       "    </tr>\n",
       "    <tr>\n",
       "      <th>21</th>\n",
       "      <td>zxing</td>\n",
       "      <td>zxing</td>\n",
       "      <td>29700</td>\n",
       "      <td>https://github.com/zxing/zxing</td>\n",
       "    </tr>\n",
       "    <tr>\n",
       "      <th>22</th>\n",
       "      <td>codepath</td>\n",
       "      <td>android_guides</td>\n",
       "      <td>27800</td>\n",
       "      <td>https://github.com/codepath/android_guides</td>\n",
       "    </tr>\n",
       "    <tr>\n",
       "      <th>23</th>\n",
       "      <td>square</td>\n",
       "      <td>leakcanary</td>\n",
       "      <td>27600</td>\n",
       "      <td>https://github.com/square/leakcanary</td>\n",
       "    </tr>\n",
       "    <tr>\n",
       "      <th>24</th>\n",
       "      <td>alibaba</td>\n",
       "      <td>fastjson</td>\n",
       "      <td>24700</td>\n",
       "      <td>https://github.com/alibaba/fastjson</td>\n",
       "    </tr>\n",
       "    <tr>\n",
       "      <th>25</th>\n",
       "      <td>scwang90</td>\n",
       "      <td>SmartRefreshLayout</td>\n",
       "      <td>23600</td>\n",
       "      <td>https://github.com/scwang90/SmartRefreshLayout</td>\n",
       "    </tr>\n",
       "    <tr>\n",
       "      <th>26</th>\n",
       "      <td>appwrite</td>\n",
       "      <td>appwrite</td>\n",
       "      <td>23100</td>\n",
       "      <td>https://github.com/appwrite/appwrite</td>\n",
       "    </tr>\n",
       "    <tr>\n",
       "      <th>27</th>\n",
       "      <td>CymChad</td>\n",
       "      <td>BaseRecyclerViewAdapterHelper</td>\n",
       "      <td>22900</td>\n",
       "      <td>https://github.com/CymChad/BaseRecyclerViewAda...</td>\n",
       "    </tr>\n",
       "    <tr>\n",
       "      <th>28</th>\n",
       "      <td>react-native-elements</td>\n",
       "      <td>react-native-elements</td>\n",
       "      <td>22500</td>\n",
       "      <td>https://github.com/react-native-elements/react...</td>\n",
       "    </tr>\n",
       "    <tr>\n",
       "      <th>29</th>\n",
       "      <td>quasarframework</td>\n",
       "      <td>quasar</td>\n",
       "      <td>21500</td>\n",
       "      <td>https://github.com/quasarframework/quasar</td>\n",
       "    </tr>\n",
       "  </tbody>\n",
       "</table>\n",
       "</div>"
      ],
      "text/plain": [
       "                 username                      repo_name  repo_url  \\\n",
       "0                 flutter                        flutter    142000   \n",
       "1               justjavac   free-programming-books-zh_CN     93800   \n",
       "2              Genymobile                         scrcpy     66900   \n",
       "3        Hack-with-Github                Awesome-Hacking     52000   \n",
       "4                  google          material-design-icons     46000   \n",
       "5                wasabeef             awesome-android-ui     42900   \n",
       "6                  square                         okhttp     42400   \n",
       "7                  Solido                awesome-flutter     41200   \n",
       "8                 android           architecture-samples     41000   \n",
       "9                  square                       retrofit     40100   \n",
       "10               fastlane                       fastlane     35500   \n",
       "11                PhilJay                 MPAndroidChart     35300   \n",
       "12                 airbnb                 lottie-android     32900   \n",
       "13               bumptech                          glide     32700   \n",
       "14            shadowsocks            shadowsocks-android     32600   \n",
       "15                 Blankj                AndroidUtilCode     31000   \n",
       "16                 Trinea           android-open-project     31000   \n",
       "17                   xitu                     gold-miner     30900   \n",
       "18                 skylot                           jadx     30700   \n",
       "19               bilibili                      ijkplayer     30500   \n",
       "20              laurent22                         joplin     30300   \n",
       "21                  zxing                          zxing     29700   \n",
       "22               codepath                 android_guides     27800   \n",
       "23                 square                     leakcanary     27600   \n",
       "24                alibaba                       fastjson     24700   \n",
       "25               scwang90             SmartRefreshLayout     23600   \n",
       "26               appwrite                       appwrite     23100   \n",
       "27                CymChad  BaseRecyclerViewAdapterHelper     22900   \n",
       "28  react-native-elements          react-native-elements     22500   \n",
       "29        quasarframework                         quasar     21500   \n",
       "\n",
       "                                                stars  \n",
       "0                  https://github.com/flutter/flutter  \n",
       "1   https://github.com/justjavac/free-programming-...  \n",
       "2                https://github.com/Genymobile/scrcpy  \n",
       "3   https://github.com/Hack-with-Github/Awesome-Ha...  \n",
       "4     https://github.com/google/material-design-icons  \n",
       "5      https://github.com/wasabeef/awesome-android-ui  \n",
       "6                    https://github.com/square/okhttp  \n",
       "7           https://github.com/Solido/awesome-flutter  \n",
       "8     https://github.com/android/architecture-samples  \n",
       "9                  https://github.com/square/retrofit  \n",
       "10               https://github.com/fastlane/fastlane  \n",
       "11          https://github.com/PhilJay/MPAndroidChart  \n",
       "12           https://github.com/airbnb/lottie-android  \n",
       "13                  https://github.com/bumptech/glide  \n",
       "14  https://github.com/shadowsocks/shadowsocks-and...  \n",
       "15          https://github.com/Blankj/AndroidUtilCode  \n",
       "16     https://github.com/Trinea/android-open-project  \n",
       "17                 https://github.com/xitu/gold-miner  \n",
       "18                     https://github.com/skylot/jadx  \n",
       "19              https://github.com/bilibili/ijkplayer  \n",
       "20                https://github.com/laurent22/joplin  \n",
       "21                     https://github.com/zxing/zxing  \n",
       "22         https://github.com/codepath/android_guides  \n",
       "23               https://github.com/square/leakcanary  \n",
       "24                https://github.com/alibaba/fastjson  \n",
       "25     https://github.com/scwang90/SmartRefreshLayout  \n",
       "26               https://github.com/appwrite/appwrite  \n",
       "27  https://github.com/CymChad/BaseRecyclerViewAda...  \n",
       "28  https://github.com/react-native-elements/react...  \n",
       "29          https://github.com/quasarframework/quasar  "
      ]
     },
     "execution_count": 63,
     "metadata": {},
     "output_type": "execute_result"
    }
   ],
   "source": [
    "# writing the function in a single line\n",
    "get_topic_repos(get_topic_page(topic_urls[4]))"
   ]
  },
  {
   "cell_type": "code",
   "execution_count": 64,
   "metadata": {
    "id": "PI22B1bHg2nn"
   },
   "outputs": [],
   "source": [
    "# creating CSV file of the topic page\n",
    "get_topic_repos(get_topic_page(topic_urls[4])).to_csv('android.csv', index = None)"
   ]
  }
 ],
 "metadata": {
  "colab": {
   "name": "webscraping-github.ipynb",
   "provenance": []
  },
  "kernelspec": {
   "display_name": "Python 3 (ipykernel)",
   "language": "python",
   "name": "python3"
  },
  "language_info": {
   "codemirror_mode": {
    "name": "ipython",
    "version": 3
   },
   "file_extension": ".py",
   "mimetype": "text/x-python",
   "name": "python",
   "nbconvert_exporter": "python",
   "pygments_lexer": "ipython3",
   "version": "3.9.7"
  }
 },
 "nbformat": 4,
 "nbformat_minor": 1
}
